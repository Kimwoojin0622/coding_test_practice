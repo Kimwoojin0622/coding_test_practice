{
 "cells": [
  {
   "cell_type": "markdown",
   "id": "182f3429",
   "metadata": {},
   "source": [
    "87.  \n",
    "\n",
    "---\n",
    "\n",
    "1부터 입력한 정수까지 1씩 증가시켜 출력하는 프로그램을 작성하되,  \n",
    "3의 배수인 경우는 출력하지 않도록 만들어보자.  \n",
    "\n",
    "예를 들면,  \n",
    "1 2 4 5 7 8 10 11 13 14 ...  \n",
    "와 같이 출력하는 것이다.  \n",
    "\n",
    "예시  \n",
    "...  \n",
    "for i in range(1, n+1) :  \n",
    "  if i%2==0 :  \n",
    "    continue            #다음 반복 단계로 넘어간다.  \n",
    "  print(i, end=' ')    #i가 짝수가 아닐 때만 실행된다.  \n",
    "...  \n",
    "위 코드는 홀 수만 출력하는 예시이다.  \n",
    "\n",
    "참고  \n",
    "조건문이나 반복문의 코드블록 안에서 continue 가 실행되면,  \n",
    "반복 블록 안에 있는 나머지 부분을 실행하지 않고, 다음 반복 단계로 넘어간다.  \n",
    "즉, 반복 블록의 나머지 부분은 실행되지 않고, 다음 단계의 반복을 계속(continue)하는 것이다.  \n",
    "\n",
    "입 10  \n",
    "출 1 2 4 5 7 8 10"
   ]
  },
  {
   "cell_type": "code",
   "execution_count": 2,
   "id": "88baa987",
   "metadata": {},
   "outputs": [
    {
     "name": "stdout",
     "output_type": "stream",
     "text": [
      "10\n",
      "1 2 4 5 7 8 10 "
     ]
    }
   ],
   "source": [
    "a = int(input())\n",
    "\n",
    "for i in range(1, a+1):\n",
    "    if i % 3 == 0:\n",
    "        continue\n",
    "    print(i, end=\" \")"
   ]
  },
  {
   "cell_type": "markdown",
   "id": "36f1df04",
   "metadata": {},
   "source": [
    "88.  \n",
    "\n",
    "---\n",
    "\n",
    "어떤 규칙에 따라 수를 순서대로 나열한 것을 수열(sequences)이라고 한다.  \n",
    "\n",
    "예를 들어  \n",
    "1 4 7 10 13 16 19 22 25 ... 은  \n",
    "1부터 시작해 이전에 만든 수에 3을 더해 다음 수를 만든 수열이다.  \n",
    "이러한 것을 수학에서는 앞뒤 수들의 차이가 같다고 하여  \n",
    "\n",
    "등차(차이가 같다의 한문 말) 수열이라고 한다. (등차수열 : arithmetic progression/sequence)  \n",
    "수열을 알게 된 영일이는 갑자기 궁금해졌다.  \n",
    "\n",
    "\"그럼.... 123번째 나오는 수는 뭘까?\"  \n",
    "\n",
    "영일이는 프로그램을 만들어 더 큰 수도 자동으로 계산하고 싶어졌다.  \n",
    "\n",
    "시작 값(a), 등차(d), 몇 번째인지를 나타내는 정수(n)가 입력될 때  \n",
    "n번째 수를 출력하는 프로그램을 만들어보자.  \n",
    "\n",
    "입 1 3 5  \n",
    "출력 13"
   ]
  },
  {
   "cell_type": "code",
   "execution_count": 6,
   "id": "b0a53811",
   "metadata": {},
   "outputs": [
    {
     "name": "stdout",
     "output_type": "stream",
     "text": [
      "2 3 5\n",
      "14\n"
     ]
    }
   ],
   "source": [
    "a, d, n = map(int, input().split())\n",
    "\n",
    "result = (d * (n-1)) + a\n",
    "\n",
    "print(result)"
   ]
  },
  {
   "cell_type": "markdown",
   "id": "301ba9be",
   "metadata": {},
   "source": [
    "89.  \n",
    "\n",
    "---\n",
    "\n",
    "어떤 규칙에 따라 수를 순서대로 나열한 것을 수열(sequences)이라고 한다.  \n",
    "\n",
    "예를 들어  \n",
    "2 6 18 54 162 486 ... 은  \n",
    "2부터 시작해 이전에 만든 수에 3을 곱해 다음 수를 만든 수열이다.  \n",
    "\n",
    "이러한 것을 수학에서는 앞뒤 수들의 비율이 같다고 하여  \n",
    "등비(비율이 같다의 한문 말) 수열이라고 한다. (등비수열 : geometric progression/sequence)  \n",
    "\n",
    "등비 수열을 알게된 영일이는 갑자기 궁금해졌다.  \n",
    "\"그럼.... 13번째 나오는 수는 뭘까?\"  \n",
    "영일이는 프로그램을 만들어 더 큰 수도 자동으로 계산하고 싶어졌다.  \n",
    "\n",
    "시작 값(a), 등비(r), 몇 번째인지를 나타내는 정수(n)가 입력될 때  \n",
    "n번째 수를 출력하는 프로그램을 만들어보자.   \n",
    "\n",
    "입 2 3 7  \n",
    "출 1458"
   ]
  },
  {
   "cell_type": "code",
   "execution_count": 9,
   "id": "c0dc5a10",
   "metadata": {},
   "outputs": [
    {
     "name": "stdout",
     "output_type": "stream",
     "text": [
      "2 3 3\n",
      "18\n"
     ]
    }
   ],
   "source": [
    "a, r, n = map(int, input().split())\n",
    "\n",
    "result = (r**(n-1)) * a\n",
    "\n",
    "print(result)"
   ]
  },
  {
   "cell_type": "markdown",
   "id": "739079a8",
   "metadata": {},
   "source": [
    "90.  \n",
    "\n",
    "---\n",
    "\n",
    "\n",
    "어떤 규칙에 따라 수를 순서대로 나열한 것을 수열(sequences)이라고 한다.  \n",
    "\n",
    "예를 들어  \n",
    "1 -1 3 -5 11 -21 43 ... 은  \n",
    "1부터 시작해 이전에 만든 수에 -2를 곱한 다음 1을 더해 다음 수를 만든 수열이다.  \n",
    "\n",
    "이런 이상한 수열을 알게 된 영일이는 또 궁금해졌다.  \n",
    "\"그럼.... 13번째 나오는 수는 뭘까?\"  \n",
    "\n",
    "영일이는 물론 수학을 아주 잘하지만 이런 문제는 본 적이 거의 없었다...  \n",
    "그래서 프로그램을 만들어 더 큰 수도 자동으로 계산하고 싶어졌다.  \n",
    "\n",
    "시작 값(a), 곱할 값(m), 더할 값(d), 몇 번째인지를 나타내는 정수(n)가 입력될 때,  \n",
    "n번째 수를 출력하는 프로그램을 만들어보자.  \n",
    "\n",
    "입 1 -2 1 8  \n",
    "출 -85"
   ]
  },
  {
   "cell_type": "code",
   "execution_count": 19,
   "id": "9e8420fd",
   "metadata": {},
   "outputs": [
    {
     "name": "stdout",
     "output_type": "stream",
     "text": [
      "1 -2 1 8\n",
      "-85\n"
     ]
    }
   ],
   "source": [
    "a, m, d, n = map(int, input().split())\n",
    "\n",
    "result = a\n",
    "\n",
    "for _ in range(1, n):\n",
    "    result = (result * m) + d\n",
    "\n",
    "print(result)"
   ]
  },
  {
   "cell_type": "code",
   "execution_count": 20,
   "id": "e7cbbe80",
   "metadata": {},
   "outputs": [
    {
     "name": "stdout",
     "output_type": "stream",
     "text": [
      "1 -2 1 8\n",
      "-85\n"
     ]
    }
   ],
   "source": [
    "a, m, d, n = map(int, input().split())\n",
    "\n",
    "for _ in range(1, n):\n",
    "    a = (a * m) + d\n",
    "\n",
    "print(a)"
   ]
  },
  {
   "cell_type": "code",
   "execution_count": null,
   "id": "53d628ae",
   "metadata": {},
   "outputs": [],
   "source": []
  },
  {
   "cell_type": "code",
   "execution_count": null,
   "id": "beea866a",
   "metadata": {},
   "outputs": [],
   "source": []
  }
 ],
 "metadata": {
  "kernelspec": {
   "display_name": "Python 3 (ipykernel)",
   "language": "python",
   "name": "python3"
  },
  "language_info": {
   "codemirror_mode": {
    "name": "ipython",
    "version": 3
   },
   "file_extension": ".py",
   "mimetype": "text/x-python",
   "name": "python",
   "nbconvert_exporter": "python",
   "pygments_lexer": "ipython3",
   "version": "3.8.20"
  }
 },
 "nbformat": 4,
 "nbformat_minor": 5
}
