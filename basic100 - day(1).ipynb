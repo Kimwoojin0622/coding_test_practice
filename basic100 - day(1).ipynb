{
 "cells": [
  {
   "cell_type": "markdown",
   "id": "c4a72896",
   "metadata": {},
   "source": [
    "1️⃣  \n",
    "python 언어에서 가장 기본적인 명령이 출력문이다.  \n",
    "print( )를 이용해 다음 단어를 출력하시오.\n",
    "\n",
    "Hello\n",
    "\n",
    "참고\n",
    "아래와 같은 소스 코드를 작성하고 실행시키면,\n",
    "지정한 \"문장\"이 출력(print)된다.\n",
    "print(\"문장\") \n",
    "\n",
    "** 주의 : 본 화면에서 복사하여 붙여넣기하면 제대로 되지 않을 수 있으니 직접 소스코드를 작성해 넣어야 한다."
   ]
  },
  {
   "cell_type": "code",
   "execution_count": 1,
   "id": "fa01c041",
   "metadata": {},
   "outputs": [
    {
     "name": "stdout",
     "output_type": "stream",
     "text": [
      "Hello\n"
     ]
    }
   ],
   "source": [
    "print('Hello')"
   ]
  },
  {
   "cell_type": "markdown",
   "id": "15aa0bfc",
   "metadata": {},
   "source": [
    "2️⃣  \n",
    "이번에는 공백( )을 포함한 문장을 출력한다.  \n",
    "다음 문장을 출력해보자.\n",
    "\n",
    "Hello World\n",
    "(대소문자에 주의한다.)\n",
    "\n",
    "참고\n",
    "print(\"문장1 문장2\")  \n",
    "을 실행시키면 \"문장1”, \"문장2\"가 공백( )을 사이에 두고 출력된다.  \n",
    "print(\"문장1\", \"문장2\")  \n",
    "도 \"문장1\"과 \"문장2\" 사이에 공백( )을 출력한다.  \n",
    "\n",
    "** 주의 : 본 화면에서 복사하여 붙여넣기하면 제대로 되지 않을 수 있으니 직접 소스코드를 작성해 넣어야 한다."
   ]
  },
  {
   "cell_type": "code",
   "execution_count": 2,
   "id": "f1e9b788",
   "metadata": {},
   "outputs": [
    {
     "name": "stdout",
     "output_type": "stream",
     "text": [
      "Hello World\n"
     ]
    }
   ],
   "source": [
    "print(\"Hello World\")"
   ]
  },
  {
   "cell_type": "markdown",
   "id": "e325335c",
   "metadata": {},
   "source": [
    "3️⃣  \n",
    "이번에는 줄을 바꿔 출력하는 출력문을 연습해보자.  \n",
    "다음과 같이 줄을 바꿔 출력해야 한다.  \n",
    "\n",
    "Hello  \n",
    "World  \n",
    "(두 줄에 걸쳐 줄을 바꿔 출력)  \n",
    "\n",
    "예시   \n",
    "print(\"Hello\")   \n",
    "print(\"World\")  \n",
    "\n",
    "참고  \n",
    "python의 기본 print( ) 를 이용해 출력하면 문장을 출력한 후 마지막에 줄을 바꾼다.(new line)  \n",
    "출력 후 줄을 바꾸는 대신 스페이스( ) 공백을 붙이도록 설정하는 방법도 있다.\n",
    "\n",
    "** 주의 : 본 화면에서 복사하여 붙여넣기하면 제대로 되지 않을 수 있으니 직접 소스코드를 작성해 넣어야한다."
   ]
  },
  {
   "cell_type": "code",
   "execution_count": 3,
   "id": "7f2479d3",
   "metadata": {},
   "outputs": [
    {
     "name": "stdout",
     "output_type": "stream",
     "text": [
      "Hello\n",
      "Wolrd\n"
     ]
    }
   ],
   "source": [
    "print(\"Hello\\nWorld\")"
   ]
  },
  {
   "cell_type": "code",
   "execution_count": 49,
   "id": "0c106d6b",
   "metadata": {},
   "outputs": [
    {
     "name": "stdout",
     "output_type": "stream",
     "text": [
      "Hello\n",
      "World\n"
     ]
    }
   ],
   "source": [
    "print(\"Hello\")\n",
    "print(\"World\")"
   ]
  },
  {
   "cell_type": "markdown",
   "id": "f01572c3",
   "metadata": {},
   "source": [
    "4️⃣  \n",
    "이번에는 작은 따옴표(')(single quotation mark)가 들어있는  \n",
    "\n",
    "출력문 연습을 해보자.  \n",
    "\n",
    "\n",
    "\n",
    "다음 문장을 출력하시오.  \n",
    "\n",
    "\n",
    "\n",
    "'Hello'\n",
    "\n",
    "\n",
    "\n",
    "예시\n",
    "\n",
    "print(\" ' \")\n",
    "\n",
    "\n",
    "\n",
    "** 주의 : 본 화면에서 복사하여 붙여넣기하면 제대로 되지 않을 수 있으니 직접 작성해야한다."
   ]
  },
  {
   "cell_type": "code",
   "execution_count": 7,
   "id": "0ca8dbe2",
   "metadata": {},
   "outputs": [
    {
     "name": "stdout",
     "output_type": "stream",
     "text": [
      "'Hello'\n"
     ]
    }
   ],
   "source": [
    "print(\"\\'Hello\\'\")"
   ]
  },
  {
   "cell_type": "markdown",
   "id": "161c5561",
   "metadata": {},
   "source": [
    "5️⃣  \n",
    "이번에는 큰따옴표(\")(double quotation mark)가 포함된 출력문을 연습해보자.\n",
    "\n",
    "다음 문장을 출력하시오.\n",
    "\n",
    "\"Hello World\"  \n",
    "(단, 큰따옴표도 함께 출력한다.)\n",
    "\n",
    "예시  \n",
    "print(' \" ')\n",
    "\n",
    "참고  \n",
    "python 언어에서 print( ) 로 출력할 문장을 표현할 때 큰 따옴표 기호(\")로 묶어 표현한다.   \n",
    "따라서, 큰따옴표 기호 그 자체를 출력하기 위해서는 다른 방법을 사용해야한다.  \n",
    "python 언어에서 문장(문자열)을 표현하는 기호로 \"와 '를 쌍으로 묶어 사용할 수 있다.  \n",
    "따라서, 문장을 표현할 때 사용하는 큰따옴표(\"문장\") 기호 대신 작은따옴표('문장')를 사용하면 큰따옴표를 출력할 수 있다.  \n",
    "(물론, 큰따옴표를 출력하는 다른 방법도 있다.)   \n",
    "\n",
    "** 주의 : 본 화면에서 복사하여 붙여넣기하면 제대로 되지 않을 수 있으니 직접 작성해야한다."
   ]
  },
  {
   "cell_type": "code",
   "execution_count": 8,
   "id": "4f130c5a",
   "metadata": {},
   "outputs": [
    {
     "name": "stdout",
     "output_type": "stream",
     "text": [
      "\"Hello World\"\n"
     ]
    }
   ],
   "source": [
    "print(\"\\\"Hello World\\\"\")"
   ]
  },
  {
   "cell_type": "markdown",
   "id": "62fededc",
   "metadata": {},
   "source": [
    "6️⃣  \n",
    "이번에는 특수문자 출력에 도전하자!!  \n",
    "\n",
    "다음 문장을 출력하시오.  \n",
    "\n",
    "\"!@#$%^&*()'  \n",
    "(단, 큰따옴표와 작은따옴표도 함께 출력한다.)  \n",
    "\n",
    " \n",
    "\n",
    "출력 형식에 필요한 따옴표와 출력할 문자인 따옴표를 구분하기 위하여  \n",
    "\n",
    "\\\" 또는 \\' 를 이용하여 출력할 수 있다.  \n",
    "\n",
    "\n",
    "** 주의 : 본 화면에서 복사하여 붙여넣기하면 제대로 되지 않을 수 있으니 직접 작성해야한다.  "
   ]
  },
  {
   "cell_type": "code",
   "execution_count": 10,
   "id": "03847481",
   "metadata": {},
   "outputs": [
    {
     "name": "stdout",
     "output_type": "stream",
     "text": [
      "\"!@#$%^&*()'\n"
     ]
    }
   ],
   "source": [
    "print(\"\\\"!@#$%^&*()\\'\")"
   ]
  },
  {
   "cell_type": "markdown",
   "id": "b2c0f0f2",
   "metadata": {},
   "source": [
    "7️⃣  \n",
    "윈도우 운영체제의 파일 경로를 출력하는 연습을 해보자.\n",
    " \n",
    "파일 경로에는 특수문자들이 포함된다.\n",
    "\n",
    "다음 경로를 출력하시오.\n",
    "\n",
    "\"C:\\\\Download\\\\'hello'.py\"\n",
    "(단, 따옴표도 함께 출력한다.)\n",
    "\n",
    " \n",
    "\n",
    "\\도 안전하게 출력하려면 \\\\를 사용하는 것이 좋다.\n",
    "\n",
    "\n",
    "** 주의 : 본 화면에서 복사하여 붙여넣기하면 제대로 되지 않을 수 있으니 직접 작성해야한다."
   ]
  },
  {
   "cell_type": "code",
   "execution_count": 11,
   "id": "b6a138c4",
   "metadata": {},
   "outputs": [
    {
     "name": "stdout",
     "output_type": "stream",
     "text": [
      "\"C:\\Download\\'hello'.py\"\n"
     ]
    }
   ],
   "source": [
    "print(\"\\\"C:\\\\Download\\\\'hello'.py\\\"\")"
   ]
  },
  {
   "cell_type": "markdown",
   "id": "e29d93bc",
   "metadata": {},
   "source": [
    "8️⃣  \n",
    "출력문 연습의 마지막 문제이다.  \n",
    "(생각과 시도를 많이 해야하는 문제들은 한 두 문제씩 넘겼다가 나중에 풀어보면 된다.)  \n",
    "\n",
    "이번에는 다음과 같은 python프로그램의 소스코드를 출력해보자.  \n",
    "\n",
    "print(\"Hello\\nWorld\")  \n",
    "\n",
    "위 코드를 정확히 그대로 출력하시오.(공백문자 주의)  \n",
    "\n",
    " \n",
    "\n",
    "print 명령 안에 서식 문자로 \\n을 사용하면 줄 바꿈(new line) 문자로 사용된다.  \n",
    "\n",
    "그렇다면 \\n을 화면에 그대로 출력하려면 어떻게 해야될까?\n",
    "\n",
    "** 주의 : 본 화면에서 복사하여 붙여넣기하면 제대로 되지 않을 수 있으니 직접 소스코드를 작성해 넣어야 한다."
   ]
  },
  {
   "cell_type": "code",
   "execution_count": 13,
   "id": "5f508d38",
   "metadata": {},
   "outputs": [
    {
     "name": "stdout",
     "output_type": "stream",
     "text": [
      "print(\"Hello\\nWorld\")\n"
     ]
    }
   ],
   "source": [
    "print(\"print(\\\"Hello\\\\nWorld\\\")\")"
   ]
  },
  {
   "cell_type": "markdown",
   "id": "29d2c96b",
   "metadata": {},
   "source": [
    "9️⃣  \n",
    "문자(character)는  \n",
    "0~9, a~z, A~Z, !, @, #, {, [, <, ... 과 같이   \n",
    "길이가 1인 기호라고 할 수 있다.  \n",
    "\n",
    "변수에 문자 1개를 저장한 후  \n",
    "변수에 저장되어 있는 문자를 그대로 출력해보자.  \n",
    "  \n",
    "예시  \n",
    "c = input()  \n",
    "print(c)  \n",
    "\n",
    "와 같은 형태로 가능하다.  \n",
    "\n",
    "참고  \n",
    "input() 을 사용하면 키보드로 입력한 값을 가져온다.  \n",
    "변수 = input()  \n",
    "를 실행시키면 키보드로 입력한 값을 왼쪽의 변수에 저장한다.  \n",
    "\n",
    "변수(variable)는 어떤 값(정수, 실수, 문자, 문자열 등)을 저장할 수 있는 공간의 별명이라고 할 수 있다.  \n",
    "어떤 값을 저장했다가 다시 사용하기 위해서 변수를 사용한다. 저장할 내용들이 많으면 필요한 만큼 변수를 만들어 사용하면 된다.  \n",
    "변수는 포스트 잇과 같은 메모지에 필요한 내용을 적어두었다가, 필요할 때 찾아 살펴보는 것과 비슷하다.  \n",
    "\n",
    "대수학(algebra)에서는 어떤 수나 값을 대신해 문자로 표현하는 방법을 사용한다.  \n",
    "프로그래밍언어에서도 마찬가지로 자신이 알아보기 쉬운 짧은 단어를 사용하는 것이 좋다. 예시) y = x + 3"
   ]
  },
  {
   "cell_type": "code",
   "execution_count": 16,
   "id": "cadebd0e",
   "metadata": {},
   "outputs": [
    {
     "name": "stdout",
     "output_type": "stream",
     "text": [
      "a\n",
      "a\n"
     ]
    }
   ],
   "source": [
    "answer = input()\n",
    "print(answer)"
   ]
  },
  {
   "cell_type": "markdown",
   "id": "0acd6a8a",
   "metadata": {},
   "source": [
    "🔟  \n",
    "정수(integer)는\n",
    "양의 정수(1, 2, 3, 4, 5, ...), 음의 정수(-1, -2, -3, -4, -5, ...), 0 과 같이\n",
    "소숫점 아래에 수가 없는 수라고 할 수 있다.\n",
    "\n",
    "변수에 정수값을 저장한 후 정수로 변환하여 출력해보자.\n",
    "\n",
    "예시\n",
    "n = input()\n",
    "n = int(n)\n",
    "print(n)\n",
    "와 같은 형태로 가능하다.\n",
    "\n",
    "참고\n",
    "input() 을 사용하면 키보드로 입력(input)한 값을 가져온다.\n",
    "\n",
    " \n",
    "\n",
    "변수 = input()\n",
    "를 실행시키면 키보드로 입력한 값을 왼쪽의 변수에 저장(할당, asign) 한다.\n",
    "\n",
    "변수는 어떤 값(정수, 실수, 문자, 문자열 등)을 저장할 수 있는 공간의 별명이라고 할 수 있다.\n",
    "변수는 일반적으로 알파벳(a~z, A~Z)이나 언더라인 '_'으로 시작하는 단어를 사용하고, 숫자(0~9)로 시작하는 단어는 사용할 수 없다.\n",
    "숫자로 시작하는 단어는 수로 인식하기 때문이다.\n",
    "(python의 경우 한글 변수도 사용할 수 있지만, 영문을 사용하는 것이 예상하지 못하는 오류를 방지할 수 있다.)\n",
    "\n",
    "'=' 연산자는 오른쪽의 계산 결과 값을 왼쪽의 변수에 저장하라는 의미의 대입연산자이다.\n",
    "왼쪽의 결과값과 오른쪽의 결과값이 같다는 의미의 수학식의 등호와는 의미가 다르다. "
   ]
  },
  {
   "cell_type": "code",
   "execution_count": 18,
   "id": "05fa8442",
   "metadata": {},
   "outputs": [
    {
     "name": "stdout",
     "output_type": "stream",
     "text": [
      "856\n",
      "856\n",
      "<class 'int'>\n"
     ]
    }
   ],
   "source": [
    "answer = int(input())\n",
    "print(answer)\n",
    "print(type(answer))"
   ]
  },
  {
   "cell_type": "markdown",
   "id": "c982e7e0",
   "metadata": {},
   "source": [
    "1️⃣1️⃣  \n",
    "숫자(0~9)와 소수점(.)을 사용해 표현한 수를 실수(real number)라고 한다.\n",
    "\n",
    "변수에 실수값을 저장한 후\n",
    "변수에 저장되어 있는 값을 그대로 출력해보자.\n",
    "\n",
    "예시  \n",
    "f = input()  \n",
    "f = float(f)  \n",
    "print(f)  \n",
    "와 같은 형태로 가능하다.  \n",
    "\n",
    "참고  \n",
    "어떤 값을 1개 입력받아 계산하거나 처리해야하는 경우라면, 입력되는 값이 수인지 문자열인지 구분해야한다.  \n",
    "조금 생각해보면, 키보드로 입력한 9라는 값이 문자 9인지, 정수 9인지, 실수 9.0인지 컴퓨터가 스스로 구분하지 못한다는 것을 알 수 있다.  \n",
    "컴퓨터 내부에서는 2진 체계의 디지털 형태로만 저장할 수 있기 때문에 정수, 문자, 실수 등의 저장 방법이 다르다.  \n",
    "입력한 값을 원하는 형태로 계산하거나 처리하기 위해서는 입력한 값이 어떤 데이터(정수, 문자, 실수, 문자열 등)인지 명확히 구분해 주어야 한다."
   ]
  },
  {
   "cell_type": "code",
   "execution_count": 23,
   "id": "6e15c1e3",
   "metadata": {},
   "outputs": [
    {
     "name": "stdout",
     "output_type": "stream",
     "text": [
      "1.4865\n",
      "1.4865\n"
     ]
    }
   ],
   "source": [
    "answer = float(input())\n",
    "print(answer)"
   ]
  },
  {
   "cell_type": "markdown",
   "id": "c5ed4424",
   "metadata": {},
   "source": [
    "1️⃣2️⃣  \n",
    "줄을 바꿔 정수(integer) 2개를 입력받아 줄을 바꿔 출력해보자.\n",
    "\n",
    "예시  \n",
    "a = input()   \n",
    "b = input()  \n",
    "a=int(a)  \n",
    "b=int(b)  \n",
    "print(a)  \n",
    "print(b)  \n",
    "과 같은 방법으로 가능하다."
   ]
  },
  {
   "cell_type": "code",
   "execution_count": 24,
   "id": "f3173aae",
   "metadata": {},
   "outputs": [
    {
     "name": "stdout",
     "output_type": "stream",
     "text": [
      "5\n",
      "6\n",
      "5\n",
      "6\n"
     ]
    }
   ],
   "source": [
    "a = int(input())\n",
    "b = int(input())\n",
    "\n",
    "print(a)\n",
    "print(b)"
   ]
  },
  {
   "cell_type": "markdown",
   "id": "4d49edb6",
   "metadata": {},
   "source": [
    "1️⃣3️⃣\n",
    "\n",
    "줄을 바꿔 문자(character) 2개를 입력받고, 순서를 바꿔 한 줄씩 출력해보자."
   ]
  },
  {
   "cell_type": "code",
   "execution_count": 25,
   "id": "90a89da7",
   "metadata": {},
   "outputs": [
    {
     "name": "stdout",
     "output_type": "stream",
     "text": [
      "ha\n",
      "wo\n",
      "wo\n",
      "ha\n"
     ]
    }
   ],
   "source": [
    "one = input()\n",
    "two = input()\n",
    "\n",
    "print(two)\n",
    "print(one)"
   ]
  },
  {
   "cell_type": "markdown",
   "id": "ad23b92d",
   "metadata": {},
   "source": [
    "1️⃣4️⃣  \n",
    "실수(real number) 1개를 입력받아 줄을 바꿔 3번 출력해보자.\n",
    "\n",
    "예시\n",
    "...\n",
    "print(f)  #f에 저장되어있는 값을 출력하고 줄을 바꾼다.  \n",
    "print(f)  \n",
    "print(f)  \n",
    "와 같은 방법으로 3번 줄을 바꿔 출력할 수 있다.  \n",
    "\n",
    "참고  \n",
    "python 코드 사이에 설명(주석)을 작성해 넣고 싶은 경우 샵('#') 기호를 사용하면 된다.  \n",
    "#가 시작된 위치부터 그 줄을 마지막까지는 python 인터프리터에 의해서 실행되지 않는다.  \n",
    "소스코드 부분 부분에 설명, 내용, 표시를 한 줄 설명으로 넣을 경우에 편리하게 사용할 수 있다.  \n",
    "여러 줄로 설명을 넣는 방법도 있다. 스스로 찾아보자!"
   ]
  },
  {
   "cell_type": "code",
   "execution_count": 33,
   "id": "7cf8a482",
   "metadata": {},
   "outputs": [
    {
     "name": "stdout",
     "output_type": "stream",
     "text": [
      "1.56\n",
      "1.56\n",
      "1.56\n",
      "1.56\n"
     ]
    }
   ],
   "source": [
    "fl = float(input())\n",
    "\n",
    "print(fl)\n",
    "print(fl)\n",
    "print(fl)"
   ]
  },
  {
   "cell_type": "markdown",
   "id": "1a48f23b",
   "metadata": {},
   "source": [
    "1️⃣5️⃣ ✅  \n",
    "공백을 두고 입력된정수(integer) 2개를 입력받아 줄을 바꿔 출력해보자.\n",
    "\n",
    "예시  \n",
    "a, b = input().split()  \n",
    "a=int(a)  \n",
    "b=int(b)  \n",
    "print(a)  \n",
    "print(b)  \n",
    "과 같은 방법으로 두 정수를 입력받아 출력할 수 있다.\n",
    "\n",
    "참고  \n",
    "python의 input()은 한 줄 단위로 입력을 받는다.  \n",
    "input().split() 를 사용하면, 공백을 기준으로 입력된 값들을 나누어(split) 자른다.  \n",
    "a, b = 1, 2  \n",
    "를 실행하면, a에는 1 b에는 2가 저장된다.  \n",
    "(주의 : 하지만, 다른 일반적인 프로그래밍언어에서는 이러한 방법을 지원하지 않기 때문에 a=1, b=2 를 한 번에 하나씩 따로 실행시켜야 한다.)"
   ]
  },
  {
   "cell_type": "code",
   "execution_count": 3,
   "id": "3c507935",
   "metadata": {},
   "outputs": [
    {
     "name": "stdout",
     "output_type": "stream",
     "text": [
      "5 80\n",
      "5\n",
      "80\n"
     ]
    }
   ],
   "source": [
    "a, b = input().split()\n",
    "\n",
    "print(int(a))\n",
    "print(int(b))"
   ]
  },
  {
   "cell_type": "markdown",
   "id": "f2c7aade",
   "metadata": {},
   "source": [
    "1️⃣6️⃣  \n",
    "공백을 두고 문자(character) 2개를 입력받아 순서를 바꿔 출력해보자.\n",
    "\n",
    "참고  \n",
    "...  \n",
    "print(c2, c1)  \n",
    "와 같은 방법으로 출력하면, c1과 c2에 저장된 값이 공백을 두고 순서가 바뀌어 한 줄로 출력된다.  \n",
    "print( ) 안에서 쉼표(,)를 찍어 순서대로 나열하면, 그 순서대로 공백을 두고 출력된다."
   ]
  },
  {
   "cell_type": "code",
   "execution_count": 4,
   "id": "01446307",
   "metadata": {},
   "outputs": [
    {
     "name": "stdout",
     "output_type": "stream",
     "text": [
      "hi woo\n",
      "woo hi\n"
     ]
    }
   ],
   "source": [
    "a, b = input().split()\n",
    "\n",
    "print(b, a)"
   ]
  },
  {
   "cell_type": "markdown",
   "id": "6ee114e5",
   "metadata": {},
   "source": [
    "1️⃣7️⃣  \n",
    "정수(integer), 실수, 문자(character), 문자열(string) 등 1개만 입력받아 한 줄로 3번 출력해보자.\n",
    "\n",
    "예시  \n",
    "s = input()  \n",
    "print(s, s, s)  #공백으로 구분해 한 줄로 출력한다.  \n",
    "와 같은 방법으로 3번 출력할 수 있다.  \n",
    "\n",
    "참고  \n",
    "python 언어에서는 문자/정수/실수/문자열 등 특별한 구분이 없이도 원하는 변수에 저장시켜 출력 할 수 있다.  \n",
    "하지만, 저장된 값을 이용해 계산하거나 서로 붙여 연결시키거나 잘라내는 작업을 한다면?  \n",
    "반드시 저장되어있는 값의 종류(문자/정수/실수/문자열 등)를 구분해 주어야 한다."
   ]
  },
  {
   "cell_type": "code",
   "execution_count": 5,
   "id": "08d4106d",
   "metadata": {},
   "outputs": [
    {
     "name": "stdout",
     "output_type": "stream",
     "text": [
      "computer science\n",
      "computer science computer science computer science\n"
     ]
    }
   ],
   "source": [
    "a = input()\n",
    "\n",
    "print(a, a, a)"
   ]
  },
  {
   "cell_type": "markdown",
   "id": "2ff8ed0d",
   "metadata": {},
   "source": [
    "1️⃣8️⃣  ✅  \n",
    "24시간 시:분 형식으로 시간이 입력될 때, 그대로 출력하는 연습을 해보자.\n",
    "\n",
    "예시  \n",
    "a, b = input().split(':')  \n",
    "print(a, b, sep=':')  \n",
    "와 같은 방법으로 가능하다.  \n",
    "\n",
    "참고  \n",
    "input().split(':') 를 사용하면 콜론 ':' 기호를 기준으로 자른다.  \n",
    "print(?, ?, sep=':') 를 사용하면 콜론 ':' 기호를 사이에 두고 값을 출력한다.  \n",
    "sep 는 분류기호(seperator)를 의미한다."
   ]
  },
  {
   "cell_type": "code",
   "execution_count": 9,
   "id": "6d59ec01",
   "metadata": {},
   "outputs": [
    {
     "name": "stdout",
     "output_type": "stream",
     "text": [
      "00:12\n",
      "00:12\n"
     ]
    }
   ],
   "source": [
    "a, b = input().split(\":\")\n",
    "\n",
    "print(a,b,sep=\":\")"
   ]
  },
  {
   "cell_type": "markdown",
   "id": "c65218e4",
   "metadata": {},
   "source": [
    "1️⃣9️⃣  \n",
    "\"연도.월.일\"을 입력받아 \"일-월-연도\" 순서로 바꿔 출력해보자.\n",
    "\n",
    "참고  \n",
    "y, m, d = input().split('.')  \n",
    "과 같이 변수들을 순서대로 나열하면 구분기호를 기준으로 잘라 순서대로 저장한다.  \n",
    "\n",
    "입력 : 2020.3.4  \n",
    "출력 : 4-3-2020"
   ]
  },
  {
   "cell_type": "code",
   "execution_count": 10,
   "id": "a0a5952e",
   "metadata": {},
   "outputs": [
    {
     "name": "stdout",
     "output_type": "stream",
     "text": [
      "2020.3.4\n",
      "4-3-2020\n"
     ]
    }
   ],
   "source": [
    "a,b,c = input().split(\".\")\n",
    "\n",
    "print(c,b,a,sep=\"-\")"
   ]
  },
  {
   "cell_type": "markdown",
   "id": "da0a135a",
   "metadata": {},
   "source": [
    "2️⃣0️⃣  \n",
    "주민번호는 다음과 같이 구성된다.  \n",
    "XXXXXX-XXXXXXX  \n",
    "\n",
    "왼쪽 6자리는 생년월일(YYMMDD)이고, 오른쪽 7자리는 성별,출생지역,확인코드로 구성되어있다.  \n",
    "주민번호를 입력받아 형태를 바꿔 출력해보자.  \n",
    "\n",
    "입력 : 000907-1121112  \n",
    "출력 : 0009071121112  "
   ]
  },
  {
   "cell_type": "code",
   "execution_count": 13,
   "id": "03d54026",
   "metadata": {},
   "outputs": [
    {
     "name": "stdout",
     "output_type": "stream",
     "text": [
      "000907-1121112\n",
      "0009071121112\n"
     ]
    }
   ],
   "source": [
    "a,b = input().split(\"-\")\n",
    "\n",
    "print(a, b, sep='')"
   ]
  },
  {
   "cell_type": "markdown",
   "id": "9132ee9d",
   "metadata": {},
   "source": [
    "2️⃣1️⃣\n",
    "\n",
    "알파벳과 숫자로 이루어진 단어 1개가 입력된다.  \n",
    "입력받은 단어의 각 문자를 한 줄에 한 문자씩 분리해 출력한다.\n",
    "\n",
    "예시  \n",
    "s = input()  \n",
    "print(s[0])  \n",
    "print(s[1])  \n",
    "...  \n",
    "\n",
    "참고  \n",
    "s[0] 은 첫 번째 문자를 의미한다.\n"
   ]
  },
  {
   "cell_type": "code",
   "execution_count": 14,
   "id": "6b9f74e6",
   "metadata": {},
   "outputs": [
    {
     "name": "stdout",
     "output_type": "stream",
     "text": [
      "Hello\n",
      "H\n",
      "e\n",
      "l\n",
      "l\n",
      "o\n"
     ]
    }
   ],
   "source": [
    "a = input()\n",
    "\n",
    "print(a[0])\n",
    "print(a[1])\n",
    "print(a[2])\n",
    "print(a[3])\n",
    "print(a[4])"
   ]
  },
  {
   "cell_type": "markdown",
   "id": "7a4fff10",
   "metadata": {},
   "source": [
    "2️⃣2️⃣  \n",
    "6자리의 연월일(YYMMDD)을 입력받아 나누어 출력해보자.\n",
    "\n",
    "참고  \n",
    "s = input()  \n",
    "print(s[0:2])  \n",
    "\n",
    "를 실행하면 0번째 문자부터 1번째 문자까지 잘라 출력한다.  \n",
    "s[a:b] 라고 하면, s라는 단어에서 a번째 문자부터 b-1번째 문자까지 잘라낸 부분을 의미한다.  \n",
    "다른 자르기 방법도 있다.  \n",
    "\n",
    "입력 예시 : 200304  \n",
    "출력 예시 : 20 03 04"
   ]
  },
  {
   "cell_type": "code",
   "execution_count": 18,
   "id": "dfe66e86",
   "metadata": {},
   "outputs": [
    {
     "name": "stdout",
     "output_type": "stream",
     "text": [
      "200304\n",
      "20 03 04\n"
     ]
    }
   ],
   "source": [
    "a = input()\n",
    "\n",
    "print(a[0:2], a[2:4], a[4:])"
   ]
  },
  {
   "cell_type": "markdown",
   "id": "1afbd026",
   "metadata": {},
   "source": [
    "2️⃣3️⃣ ✅  \n",
    "\n",
    "시:분:초 형식으로 시간이 입력될 때 분만 출력해보자.\n",
    "\n",
    "어떻게 분만 출력해야 할지 주의 깊게 생각해야한다.\n",
    "\n",
    "인풋 : 17:23:57\n",
    "\n",
    "아웃풋 : 23"
   ]
  },
  {
   "cell_type": "code",
   "execution_count": 21,
   "id": "40780e0c",
   "metadata": {},
   "outputs": [
    {
     "name": "stdout",
     "output_type": "stream",
     "text": [
      "17:23:57\n",
      "23\n"
     ]
    }
   ],
   "source": [
    "a = input()\n",
    "\n",
    "print(a.split(\":\")[1])"
   ]
  },
  {
   "cell_type": "markdown",
   "id": "27196662",
   "metadata": {},
   "source": [
    "2️⃣4️⃣  \n",
    "알파벳 문자와 숫자로 이루어진 단어 2개를 입력받아  \n",
    "순서대로 붙여 출력하는 프로그램을 작성해보자.\n",
    "\n",
    "예시  \n",
    "w1, w2 = input().split()  \n",
    "s = w1 + w2  \n",
    "print(s)  \n",
    "\n",
    "참고  \n",
    "단어는 문자(character)들로 만든다.  \n",
    "문자들로 구성된 문장을 문자열(string)이라고 부른다.  \n",
    "문자열에는 공백문자(' ')가 포함될 수 있는데,   \n",
    "문자 1개는 길이가 1인 문자열이라고 할 수 있고, 공백문자(' ')가 없는 문자열은 단어(word)라고 할 수 있다.  \n",
    "\n",
    "일반적인 문장들은 공백으로 구분된 단어들로 만들어지기 때문에,  \n",
    "공백문자로 구분된 문장에서 단어를 잘라내기 위해서는 공백문자(' ')를 기준으로 자르면 된다.  \n",
    "키보드로 입력되는 것들은 기본적으로 문자열로 인식되고, 문자열끼리 더하기(+)를 실행하면,  \n",
    "두 문자열을 합쳐 연결한(concatenate) 결과를 만들어 낸다.\n",
    "\n",
    "입력 : hello world  \n",
    "출력 : helloworld  \n"
   ]
  },
  {
   "cell_type": "code",
   "execution_count": 22,
   "id": "b832309b",
   "metadata": {},
   "outputs": [
    {
     "name": "stdout",
     "output_type": "stream",
     "text": [
      "hello world\n",
      "helloworld\n"
     ]
    }
   ],
   "source": [
    "a,b = input().split()\n",
    "\n",
    "print(a,b,sep='')"
   ]
  },
  {
   "cell_type": "code",
   "execution_count": 23,
   "id": "dbb1cff6",
   "metadata": {},
   "outputs": [
    {
     "name": "stdout",
     "output_type": "stream",
     "text": [
      "hello 56\n",
      "hello56\n"
     ]
    }
   ],
   "source": [
    "a,b = input().split()\n",
    "\n",
    "s = a+b\n",
    "print(s)"
   ]
  },
  {
   "cell_type": "markdown",
   "id": "35e16dc2",
   "metadata": {},
   "source": [
    "2️⃣5️⃣  \n",
    "정수 2개를 입력받아  \n",
    "합을 출력하는 프로그램을 작성해보자.  \n",
    "\n",
    "예시  \n",
    "a, b = input().split()  \n",
    "c = int(a) + int(b)  \n",
    "print(c)  \n",
    "\n",
    "참고  \n",
    "입력되는 값은 기본적으로 문자열로 인식된다.  \n",
    "\n",
    "문자열 + 문자열은 두 문자열을 합친 문자열을 만든다.  \n",
    "숫자로 구성된 문자열이나 실수를 정수(integer) 값으로 바꾸기 위해서는 int( ) 를 사용할 수 있다.  \n",
    "수 + 수의 결과는 합(addition)이 계산된다.  \n",
    "\n",
    "입 123 -123  \n",
    "출 0"
   ]
  },
  {
   "cell_type": "code",
   "execution_count": 24,
   "id": "ebbd59f0",
   "metadata": {},
   "outputs": [
    {
     "name": "stdout",
     "output_type": "stream",
     "text": [
      "123 -123\n",
      "0\n"
     ]
    }
   ],
   "source": [
    "a,b = input().split()\n",
    "\n",
    "print(int(a) + int(b))"
   ]
  },
  {
   "cell_type": "markdown",
   "id": "c0a63028",
   "metadata": {},
   "source": [
    "2️⃣6️⃣  \n",
    "실수 2개를 입력받아  \n",
    "합을 출력하는 프로그램을 작성해보자.  \n",
    "\n",
    "참고  \n",
    "입력되는 값은 기본적으로 문자열로 인식된다.\n",
    "\n",
    "숫자로 구성된 문자열이나 정수를 실수(real number) 값으로 바꾸기 위해서는 float( ) 를 사용할 수 있다.  \n",
    "소숫점(.)은 그 위치가 정해져있지 않고 이리저리 둥둥 떠다니므로, floating point라고 부른다.\n",
    "\n",
    "입  \n",
    "0.1  \n",
    "0.9  \n",
    "\n",
    "출  \n",
    "1.0  "
   ]
  },
  {
   "cell_type": "code",
   "execution_count": 26,
   "id": "10868517",
   "metadata": {},
   "outputs": [
    {
     "name": "stdout",
     "output_type": "stream",
     "text": [
      "0.1\n",
      "0.9\n",
      "1.0\n"
     ]
    }
   ],
   "source": [
    "a = float(input())\n",
    "b = float(input())\n",
    "\n",
    "print(a+b)"
   ]
  },
  {
   "cell_type": "markdown",
   "id": "323ea5da",
   "metadata": {},
   "source": [
    "2️⃣7️⃣ ✅  \n",
    "10진수를 입력받아 16진수(hexadecimal)로 출력해보자.  \n",
    "\n",
    "예시  \n",
    "a = input()  \n",
    "n = int(a)            #입력된 a를 10진수 값으로 변환해 변수 n에 저장  \n",
    "print('%x'% n)  #n에 저장되어있는 값을 16진수(hexadecimal) 소문자 형태 문자열로 출력  \n",
    "\n",
    "참고  \n",
    "10진수 형태로 입력받고  \n",
    "%x로 출력하면 16진수(hexadecimal) 소문자로 출력된다.  \n",
    "(%o로 출력하면 8진수(octal) 문자열로 출력된다.)  \n",
    "\n",
    "10진법은 한 자리에 10개(0 1 2 3 4 5 6 7 8 9)의 문자를 사용하고,  \n",
    "16진법은 영문 소문자를 사용하는 경우에 한 자리에 16개(0 1 2 3 4 5 6 7 8 9 a b c d e f)의 문자를 사용한다.  \n",
    "16진수 a는 10진수의 10, b는 11, c는 12 ... 와 같다.  \n",
    "\n",
    "입 255  \n",
    "출 ff"
   ]
  },
  {
   "cell_type": "code",
   "execution_count": 27,
   "id": "ac60d038",
   "metadata": {
    "scrolled": true
   },
   "outputs": [
    {
     "name": "stdout",
     "output_type": "stream",
     "text": [
      "255\n",
      "ff\n"
     ]
    }
   ],
   "source": [
    "a = int(input())\n",
    "\n",
    "print('%x'%a)"
   ]
  },
  {
   "cell_type": "code",
   "execution_count": 28,
   "id": "211beedf",
   "metadata": {},
   "outputs": [
    {
     "name": "stdout",
     "output_type": "stream",
     "text": [
      "255\n",
      "377\n"
     ]
    }
   ],
   "source": [
    "# 그럼 8진수는..\n",
    "\n",
    "a = int(input())\n",
    "\n",
    "print(\"%o\"%a)"
   ]
  },
  {
   "cell_type": "markdown",
   "id": "98be606e",
   "metadata": {},
   "source": [
    "2️⃣8️⃣  \n",
    "10진수를 입력받아 16진수(hexadecimal)로 출력해보자.  \n",
    "\n",
    "예시  \n",
    "print('%X' % n)  #n에 저장되어있는 값을 16진수 대문자 형태 문자열로 출력  \n",
    "\n",
    "참고  \n",
    "10진수 형태로 입력받고  \n",
    "%X로 출력하면 16진수(hexadecimal)대문자로 출력된다.  \n",
    "\n",
    "16진법은 영문 소문자를 사용하는 경우에 한 자리에 16개(0 1 2 3 4 5 6 7 8 9 A B C D E F)의 문자를 사용한다.  \n",
    "16진수 A는 10진수의 10, B는 11, C는 12 ... 와 같다.  \n",
    "\n",
    "입 255  \n",
    "출 FF"
   ]
  },
  {
   "cell_type": "code",
   "execution_count": 29,
   "id": "9e9799b9",
   "metadata": {},
   "outputs": [
    {
     "name": "stdout",
     "output_type": "stream",
     "text": [
      "255\n",
      "FF\n"
     ]
    }
   ],
   "source": [
    "a = int(input())\n",
    "\n",
    "print('%X'%a)"
   ]
  },
  {
   "cell_type": "markdown",
   "id": "803e6c36",
   "metadata": {},
   "source": [
    "2️⃣9️⃣  \n",
    "16진수를 입력받아 8진수(octal)로 출력해보자.  \n",
    "\n",
    "예시  \n",
    "a = input()  \n",
    "n = int(a, 16)      #입력된 a를 16진수로 인식해 변수 n에 저장  \n",
    "print('%o' % n)  #n에 저장되어있는 값을 8진수(octal) 형태 문자열로 출력  \n",
    "\n",
    "참고  \n",
    "8진법은 한 자리에 8개(0 1 2 3 4 5 6 7)의 문자를 사용한다.  \n",
    "8진수 10은 10진수의 8, 11은 9, 12는 10 ... 와 같다.  \n",
    "\n",
    "입 f  \n",
    "출 17  "
   ]
  },
  {
   "cell_type": "code",
   "execution_count": 34,
   "id": "ed00ebb9",
   "metadata": {},
   "outputs": [
    {
     "name": "stdout",
     "output_type": "stream",
     "text": [
      "f\n",
      "17\n"
     ]
    }
   ],
   "source": [
    "a = input()\n",
    "\n",
    "a = int(a, 16)\n",
    "\n",
    "print('%o'%a)"
   ]
  },
  {
   "cell_type": "markdown",
   "id": "bd3c3fc1",
   "metadata": {},
   "source": [
    "30. ✅  \n",
    "\n",
    "---\n",
    "\n",
    "영문자 1개를 입력받아 10진수 유니코드(Unicode) 값으로 출력해보자.  \n",
    "\n",
    "예시  \n",
    "n = ord(input())  \n",
    "print(n)  \n",
    "\n",
    "참고  \n",
    "n = ord(input())  #입력받은 문자를 10진수 유니코드 값으로 변환한 후, n에 저장한다.  \n",
    "\n",
    "ord( ) 는 어떤 문자의 순서 위치(ordinal position) 값을 의미한다.    \n",
    "실제로 각각의 문자들에는 연속된 정수 값이 순서에 따라 부여 되어 있다. A:65, B:66, C:67 ....   \n",
    "ord(c) : 문자 c 를 10진수로 변환한 값   \n",
    "\n",
    "컴퓨터로 저장되고 처리되는 모든 데이터들은 2진수 형태로 정수화 되어야 하는데,  \n",
    "컴퓨터에 문자를 저장하는 방법으로 아스키코드(ASCII Code)나 유니코드(Unicode)가 자주 사용된다.  \n",
    "\n",
    "예를 들어, 영문 대문자 'A'는 10진수 값 65 로 표현하고,   \n",
    "2진수(binary digit) 값 1000001 로 바꾸어 컴퓨터 내부에 저장한다.   \n",
    "\n",
    "유니코드(unicode)는 세계 여러 나라의 문자를 공통된 코드 값으로 저장할 때 사용하는 표준 코드이다.  "
   ]
  },
  {
   "cell_type": "code",
   "execution_count": 35,
   "id": "40319c82",
   "metadata": {},
   "outputs": [
    {
     "name": "stdout",
     "output_type": "stream",
     "text": [
      "A\n",
      "65\n"
     ]
    }
   ],
   "source": [
    "a = ord(input())\n",
    "\n",
    "print(a)"
   ]
  },
  {
   "cell_type": "markdown",
   "id": "e2e8934e",
   "metadata": {},
   "source": [
    "31. ✅   \n",
    "\n",
    "---\n",
    "\n",
    "\n",
    "10진 정수 1개를 입력받아  \n",
    "유니코드 문자로 출력해보자.  \n",
    "\n",
    "\n",
    "예시  \n",
    "c = int(input())  \n",
    "print(chr(c))  #c에 저장되어 있는 정수 값을 유니코드 문자(chracter)로 바꿔 출력한다.   \n",
    "\n",
    "\n",
    "참고  \n",
    "입력은 기본적으로 모두 문자열로 입력되는 것이라고 할 수 있다.   \n",
    "따라서, 입력 값이 문자/문자열/정수/실수인지에 따라서 먼저 정확하게 변환시킨 다음에 사용하거나 계산하는 것이 좋다.  \n",
    "\n",
    "예를 들어 123 이 입력 되었다고 한다면, 이건 정수일까? 문자열일까?  \n",
    "조금 생각해보면, 입력된 것만 보고는 그 값이 어떤 데이터인지 알 수 없다는 것을 쉽게 이해할 수 있다.  \n",
    "따라서, 그 입력 값을 어떻게 해석하고 변환할 지에 대해서 명확하게 작성해 주어야 하는 것이다.   \n",
    "\n",
    "chr( )는 정수값->문자, ord( )는 문자->정수값 형태로 바꿔주는 서로 반대 방향으로 바꾸어 주는 기능을 한다.  "
   ]
  },
  {
   "cell_type": "code",
   "execution_count": 38,
   "id": "a54ca16c",
   "metadata": {},
   "outputs": [
    {
     "name": "stdout",
     "output_type": "stream",
     "text": [
      "66\n",
      "B\n"
     ]
    }
   ],
   "source": [
    "a = int(input())\n",
    "\n",
    "print(chr(a))"
   ]
  },
  {
   "cell_type": "markdown",
   "id": "2859c554",
   "metadata": {},
   "source": [
    "32.  \n",
    "\n",
    "---\n",
    "\n",
    "입력된 정수의 부호를 바꿔 출력해보자.  \n",
    "\n",
    "\n",
    "예시   \n",
    "...   \n",
    "print(-n)   \n",
    "\n",
    "참고   \n",
    "단항(unary) 연산자인 -(negative)를 변수 앞에 붙이면 부호가 반대인 값이 된다. \n",
    "\n",
    "입 -1  \n",
    "출 1"
   ]
  },
  {
   "cell_type": "code",
   "execution_count": 40,
   "id": "0552f1d7",
   "metadata": {},
   "outputs": [
    {
     "name": "stdout",
     "output_type": "stream",
     "text": [
      "-86\n",
      "86\n"
     ]
    }
   ],
   "source": [
    "a = int(input())\n",
    "\n",
    "print(-a)"
   ]
  },
  {
   "cell_type": "markdown",
   "id": "b7b2720e",
   "metadata": {},
   "source": [
    "33. ✅  \n",
    "\n",
    "---\n",
    "\n",
    "문자 1개를 입력받아 그 다음 문자를 출력해보자.  \n",
    "영문자 'A'의 다음 문자는 'B'이고, 숫자 '0'의 다음 문자는 '1'이다.  \n",
    "\n",
    "예시  \n",
    "...  \n",
    "print(chr(n+1))  \n",
    "\n",
    "참고  \n",
    "숫자는 수를 표현하는 문자로서 '0' 은 문자 그 자체를 의미하고, 0은 값을 의미한다.  \n",
    "\n",
    "힌트  \n",
    "아스키문자표에서 'A'는 10진수 65로 저장되고 'B'는 10진수 66으로 저장된다.  \n",
    "따라서, 문자도 값으로 덧셈을 할 수 있다. 어떤 문자의 값에 1을 더하면 그 다음 문자의 값이 된다.  \n",
    "\n",
    "입 a  \n",
    "출 b"
   ]
  },
  {
   "cell_type": "code",
   "execution_count": 42,
   "id": "b69c618a",
   "metadata": {},
   "outputs": [
    {
     "name": "stdout",
     "output_type": "stream",
     "text": [
      "A\n",
      "B\n"
     ]
    }
   ],
   "source": [
    "a = ord(input())\n",
    "\n",
    "print(chr(a+1))"
   ]
  },
  {
   "cell_type": "markdown",
   "id": "c98d45e2",
   "metadata": {},
   "source": [
    "34.  \n",
    "\n",
    "---\n",
    "\n",
    "정수 2개(a, b)를 입력받아 a에서 b를 뺀 차를 출력하는 프로그램을 작성해보자.  \n",
    "\n",
    "예시  \n",
    "...  \n",
    "c = a - b  \n",
    "print(c)  \n",
    "\n",
    "참고  \n",
    "수 - 수는 차(subtraction)가 계산된다.  \n",
    " \n",
    "입 123 -123  \n",
    "출 246  "
   ]
  },
  {
   "cell_type": "code",
   "execution_count": 48,
   "id": "cc755f8c",
   "metadata": {},
   "outputs": [
    {
     "name": "stdout",
     "output_type": "stream",
     "text": [
      "123 -123\n",
      "246\n"
     ]
    }
   ],
   "source": [
    "a, b = input().split()\n",
    "\n",
    "a, b = int(a), int(b)\n",
    "\n",
    "c = a - b\n",
    "\n",
    "print(c)"
   ]
  },
  {
   "cell_type": "markdown",
   "id": "795168e8",
   "metadata": {},
   "source": [
    "35.  \n",
    "\n",
    "---\n",
    "\n",
    "실수 2개(f1, f2)를 입력받아 곱을 출력하는 프로그램을 작성해보자.  \n",
    " \n",
    "예시  \n",
    "...  \n",
    "m = f1 * f2  \n",
    "print(m)  \n",
    "  \n",
    "참고  \n",
    "수 * 수는 곱(multiplication)이 계산된다.  \n",
    "\n",
    "입 0.5 2.0  \n",
    "출 1.0"
   ]
  },
  {
   "cell_type": "code",
   "execution_count": 59,
   "id": "a189e5c0",
   "metadata": {},
   "outputs": [
    {
     "name": "stdout",
     "output_type": "stream",
     "text": [
      "0.5 2.0\n",
      "1.0\n"
     ]
    }
   ],
   "source": [
    "a, b = input().split()\n",
    "\n",
    "a, b = float(a), float(b)\n",
    "\n",
    "c = a*b\n",
    "\n",
    "print(c)"
   ]
  }
 ],
 "metadata": {
  "kernelspec": {
   "display_name": "Python 3 (ipykernel)",
   "language": "python",
   "name": "python3"
  },
  "language_info": {
   "codemirror_mode": {
    "name": "ipython",
    "version": 3
   },
   "file_extension": ".py",
   "mimetype": "text/x-python",
   "name": "python",
   "nbconvert_exporter": "python",
   "pygments_lexer": "ipython3",
   "version": "3.8.20"
  }
 },
 "nbformat": 4,
 "nbformat_minor": 5
}
