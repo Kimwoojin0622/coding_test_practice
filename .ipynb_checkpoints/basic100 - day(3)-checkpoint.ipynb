{
 "cells": [
  {
   "cell_type": "markdown",
   "id": "0cf179c7",
   "metadata": {},
   "source": [
    "62.  \n",
    "\n",
    "---\n",
    "\n",
    "입력된 정수 두 개를 비트단위로 xor 연산한 후 그 결과를 정수로 출력해보자.  \n",
    "비트단위(bitwise) 연산자 ^(xor, circumflex/caret, 서컴플렉스/카릿)를 사용하면 된다.  \n",
    "\n",
    "** 주의 ^은 수학식에서 거듭제곱(power)을 나타내는 기호와 모양은 같지만,  \n",
    "C언어에서는 전혀 다른 배타적 논리합(xor, 서로 다를 때 1)의 의미를 가진다.  \n",
    "\n",
    "** 비트단위(bitwise) 연산자는,  \n",
    "~(bitwise not), &(bitwise and), |(bitwise or), ^(bitwise xor),  \n",
    "<<(bitwise left shift), >>(bitwise right shift)  \n",
    "가 있다.  \n",
    "\n",
    "예를 들어 3과 5가 입력되었을 때를 살펴보면  \n",
    "3       : 00000000 00000000 00000000 00000011  \n",
    "5       : 00000000 00000000 00000000 00000101  \n",
    "3 ^ 5 : 00000000 00000000 00000000 00000110  \n",
    "이 된다.  \n",
    "이러한 비트단위 연산은 빠른 계산이 필요한 그래픽처리에서도 효과적으로 사용된다.  \n",
    "\n",
    "구체적으로 설명하자면,  \n",
    "두 장의 이미지가 겹쳐졌을 때 색이 서로 다른 부분만 처리할 수 있다.  \n",
    "배경이 되는 그림과 배경 위에서 움직이는 그림이 있을 때,  \n",
    "두 그림에서 차이만 골라내 배경 위에서 움직이는 그림의 색으로 바꿔주면  \n",
    "전체 그림을 구성하는 모든 점들의 색을 다시 계산해 입히지 않고  \n",
    "보다 효과적으로 그림을 처리할 수 있게 되는 것이다.  \n",
    "비행기 슈팅게임 등을 상상해보면 된다.  \n",
    "\n",
    "입 3 5  \n",
    "출 6"
   ]
  },
  {
   "cell_type": "code",
   "execution_count": 1,
   "id": "3153894b",
   "metadata": {},
   "outputs": [
    {
     "name": "stdout",
     "output_type": "stream",
     "text": [
      "3 5\n",
      "6\n"
     ]
    }
   ],
   "source": [
    "a,b = map(int, input().split())\n",
    "\n",
    "print(a^b)"
   ]
  },
  {
   "cell_type": "markdown",
   "id": "3f4fd83c",
   "metadata": {},
   "source": [
    "63.  \n",
    "\n",
    "---\n",
    "\n",
    "입력된 두 정수(a, b) 중 큰 값을 출력하는 프로그램을 작성해보자.  \n",
    "단, 3항 연산을 사용한다.  \n",
    "\n",
    "예시  \n",
    "a, b = input().split()  \n",
    "a = int(a)  #변수 a에 저장되어있는 값을 정수로 바꾸어 다시 변수 a에 저장  \n",
    "b = int(b)  \n",
    "c = (a if (a>=b) else b)  \n",
    "print(int(c))  \n",
    "\n",
    "참고  \n",
    "3개의 요소로 이루어지는 3항 연산은  \n",
    "\"x if C else y\" 의 형태로 작성이 된다.  \n",
    "- C : True 또는 False 를 평가할 조건식(conditional expression) 또는 값  \n",
    "- x : C의 평가 결과가 True 일 때 사용할 값  \n",
    "- y : C의 평가 결과가 True 가 아닐 때 사용할 값  \n",
    "\n",
    "조건식 또는 값이 True 이면 x 값이 사용되고, True가 아니면 y 값이 사용되도록 하는 코드이다.  \n",
    "\n",
    "예를 들어  \n",
    "0 if 123>456 else 1  \n",
    "과 같은 표현식의 평가값은 123 > 456 의 비교연산 결과가 False 이므로 1이 된다.  \n",
    "\n",
    "예시 코드에서  \n",
    "a>=b 의 결과가 True(참) 이면 (a if (a>=b) else b)의 결과는 a가 되고,  \n",
    "a>=b 의 결과가 False(거짓)이면 (a if (a>=b) else b)의 결과는 b가 된다.  \n",
    "\n",
    "입 123 456  \n",
    "출 456"
   ]
  },
  {
   "cell_type": "code",
   "execution_count": 2,
   "id": "9c59115b",
   "metadata": {},
   "outputs": [
    {
     "name": "stdout",
     "output_type": "stream",
     "text": [
      "123 456\n",
      "456\n"
     ]
    }
   ],
   "source": [
    "a,b = map(int, input().split())\n",
    "\n",
    "result = a if a >= b else b\n",
    "\n",
    "print(result)"
   ]
  },
  {
   "cell_type": "markdown",
   "id": "2708d7ed",
   "metadata": {},
   "source": [
    "64.✅  \n",
    "\n",
    "---\n",
    "\n",
    "입력된 세 정수 a, b, c 중 가장 작은 값을 출력하는 프로그램을 작성해보자.  \n",
    "단, 3항 연산을 사용한다.  \n",
    "\n",
    "참고  \n",
    "프로그래밍언어 소스코드 작성시 모든 요소들은  \n",
    "\"순서에 따라 한 단계씩 실행\"  \n",
    "\"미리 정해진 순서에 따라 하나씩 연산 수행\"  \n",
    "\"그 때까지 연산된 결과를 이용해 다시 순서에 따라 하나씩 연산\"  \n",
    "...  \n",
    "등의 원리가 적용된다.    \n",
    "\n",
    "따라서 3항 연산을 중첩해(괄호로 묶는 등..) 이용하면 여러 값들을 순서대로 비교해 가장 큰/작은 값을 계산할 수 있다.  \n",
    "\n",
    "예를 들어  \n",
    "(a if a>b else b) if ((a if a>b else b)>c) else c  \n",
    "와 같은 계산식은 a, b, c 의 값 중 가장 큰 값으로 계산된다.  \n",
    "\n",
    "잘 이해가 되지 않는다면 어떤 순서에 따라 계산될 지 생각해보고  \n",
    "여러 가지 연산자가 동시에 사용된 식이 있을 때, 어떤 우선순위에 따라 순서대로 계산이 되는지 찾아보도록 한다.  \n",
    "“연산자 우선순위”를 검색하면 우선순위와 결합방향이 나온다.  \n",
    "예를 들어 변수에 어떤 값을 대입하는 대입(assign) 연산자 = 의 우선순위는 가장 낮고, 오른쪽에서 왼쪽의 결합방향을 가진다.  \n",
    "\n",
    "** 3항 연산은 자주 사용되지는 않지만,  \n",
    "복잡한 계산식이나 조건 처리, 비교 구조를 간단히 표현할 수 있게 해준다.  \n",
    "\n",
    "입력 3 -1 5  \n",
    "출력 -1"
   ]
  },
  {
   "cell_type": "code",
   "execution_count": 5,
   "id": "719aeeff",
   "metadata": {},
   "outputs": [
    {
     "name": "stdout",
     "output_type": "stream",
     "text": [
      "3 5 -1\n",
      "-1\n"
     ]
    }
   ],
   "source": [
    "a,b,c, = map(int, input().split())\n",
    "\n",
    "result = a if a < b and a < c else (b if b < c else c)\n",
    "\n",
    "print(result)"
   ]
  },
  {
   "cell_type": "markdown",
   "id": "9f23d190",
   "metadata": {},
   "source": [
    "65.  \n",
    "\n",
    "---\n",
    "\n",
    "3개의 정수(a, b, c)가 입력되었을 때, 짝수만 출력해보자.  \n",
    "\n",
    "예시  \n",
    "a, b, c = input().split()  \n",
    "\n",
    "a = int(a)  \n",
    "b = int(b)  \n",
    "c = int(c)  \n",
    "\n",
    "if a%2==0 :  #논리적으로 한 단위로 처리해야하는 경우 콜론(:)을 찍고, 들여쓰기로 작성 한다.  \n",
    "  print(a)   \n",
    "\n",
    "if b%2==0 :  \n",
    "  print(b)   \n",
    "\n",
    "if c%2==0 :  \n",
    "  print(c)   \n",
    "\n",
    "참고   \n",
    "if 조건식 :  \n",
    "  실행1  #조건식의 평가값이 True 인 경우 실행시킬 명령을 들여쓰기를 이용해 순서대로 작성한다.  \n",
    "  실행2  \n",
    "실행3  #들여쓰기를 하지 않은 부분은 조건식에 상관이 없음   \n",
    "\n",
    "python 에서는 논리적 실행단위인 코드블록(code block)을 표현하기 위해 들여쓰기를 사용한다.  \n",
    "들여쓰기 방법은 탭(tab), 공백(space) 4개 등 여러 가지 방법을 사용할 수 있지만  \n",
    "한 소스코드 내에서 들여쓰기 길이와 방법은 똑같아야 한다.  \n",
    "\n",
    "a%2==0 은 (a%2)가 먼저 계산된 후 그 결과를 정수 0과 비교한 결과값이다.  \n",
    "a를 2로 나눈 나머지가 0, 즉 짝수이면 True 가 되고, 아니면 False 로 계산된다.  \n",
    "따라서,  \n",
    "if a%2==0 : #a가 짝수라면 ...   \n",
    "와 같은 의미가 된다. 짝수가 아니라면 들여쓰기로 작성된 부분들은 실행되지 않는다.  \n",
    "\n",
    "입력 1 2 4   \n",
    "출력  \n",
    "2  \n",
    "4"
   ]
  },
  {
   "cell_type": "code",
   "execution_count": 9,
   "id": "0442fb84",
   "metadata": {},
   "outputs": [
    {
     "name": "stdout",
     "output_type": "stream",
     "text": [
      "1 2 4\n",
      "2\n",
      "4\n"
     ]
    }
   ],
   "source": [
    "data = list(map(int, input().split()))\n",
    "\n",
    "for a in data:\n",
    "    if a % 2 == 0:\n",
    "        print(a)"
   ]
  },
  {
   "cell_type": "code",
   "execution_count": 10,
   "id": "a459e931",
   "metadata": {},
   "outputs": [
    {
     "name": "stdout",
     "output_type": "stream",
     "text": [
      "1 2 4\n",
      "2\n",
      "4\n"
     ]
    }
   ],
   "source": [
    "a,b,c = map(int, input().split())\n",
    "\n",
    "if a % 2 == 0:\n",
    "    print(a)\n",
    "\n",
    "if b % 2 == 0:\n",
    "    print(b)\n",
    "\n",
    "if c % 2 == 0:\n",
    "    print(c)"
   ]
  },
  {
   "cell_type": "markdown",
   "id": "510246bc",
   "metadata": {},
   "source": [
    "66.  \n",
    "\n",
    "---\n",
    "\n",
    "3개의 정수(a, b, c)가 입력되었을 때, 짝(even)/홀(odd)을 출력해보자.  \n",
    "\n",
    "예시  \n",
    "...  \n",
    "if a%2==0 :  \n",
    "  print(\"even\")  \n",
    "else :  \n",
    "  print(\"odd\")   \n",
    "...  \n",
    "\n",
    "참고   \n",
    "if 조건식 :  #조건식을 평가해서...  \n",
    "  실행1      #True 인 경우 실행시킬 명령들... \n",
    "  실행2  \n",
    "else :          \n",
    "  실행3      #False 인 경우 실행시킬 명령들...  \n",
    "  실행4  \n",
    "실행5       #조건식과 상관없는 다음 명령  \n",
    "...  \n",
    "\n",
    "else 는 if 없이 혼자 사용되지 않는다.  \n",
    "또한, else 다음에는 조건식이 없는 이유는? True(참)가 아니면 False(거짓)이기 때문에...   \n",
    "조건식의 평가 결과는 True 아니면 False 로 계산되기 때문이다.  \n",
    "\n",
    "python 에서는 들여쓰기를 기준으로 코드블록을 구분하므로, 들여쓰기를 정확하게 해주어야 한다.  \n",
    "\n",
    "입력 1 2 8  \n",
    "출력  \n",
    "odd  \n",
    "even  \n",
    "even"
   ]
  },
  {
   "cell_type": "code",
   "execution_count": 11,
   "id": "d8929c18",
   "metadata": {},
   "outputs": [
    {
     "name": "stdout",
     "output_type": "stream",
     "text": [
      "1 2 8\n",
      "odd\n",
      "even\n",
      "even\n"
     ]
    }
   ],
   "source": [
    "data = list(map(int, input().split()))\n",
    "\n",
    "for result in data:\n",
    "    if result % 2 == 0:\n",
    "        print(\"even\")\n",
    "    else:\n",
    "        print(\"odd\")"
   ]
  },
  {
   "cell_type": "markdown",
   "id": "43880417",
   "metadata": {},
   "source": [
    "67.✅  \n",
    "\n",
    "---\n",
    "\n",
    "0이 아닌 정수 1개가 입력되었을 때, 음(-)/양(+)과 짝(even)/홀(odd)을 구분해 분류해보자.  \n",
    "음수이면서 짝수이면, A  \n",
    "음수이면서 홀수이면, B  \n",
    "양수이면서 짝수이면, C  \n",
    "양수이면서 홀수이면, D  \n",
    "를 출력한다.  \n",
    "\n",
    "예시  \n",
    "...  \n",
    "if n<0 :  \n",
    "  if n%2==0 :  \n",
    "    print('A')      #주의 : 변수 A와 문자열 'A' / \"A\" 는 의미가 완전히 다르다.   \n",
    "  else :  \n",
    "    print('B')  \n",
    "else :  \n",
    "  if n%2==0 :  \n",
    "    print('C')  \n",
    "  else :  \n",
    "    print('D')  \n",
    "...  \n",
    "\n",
    "참고  \n",
    "조건/선택 실행구조 안에 다시 조건/선택 실행구조를 \"중첩\"할 수가 있다.  \n",
    "\n",
    "또한, 중첩된 조건은  \n",
    "...  \n",
    "if (n<0) and (n%2==0) :  \n",
    "    print('A')  \n",
    "...  \n",
    "와 같이 논리연산자(not, and, or)를 이용해 합쳐 표현할 수도 있다.  \n",
    "비교연산(<, >, <=, >=, ==, !=) 의 계산 결과는 True 또는 False 의 불(boolean) 값이고,  \n",
    "불 값들 사이의 논리연산(not, and, or)의 결과도 True 또는 False 의 불 값이다.  \n",
    "\n",
    "입력 -2147483648  \n",
    "출력 A"
   ]
  },
  {
   "cell_type": "code",
   "execution_count": 21,
   "id": "9bdfca3e",
   "metadata": {},
   "outputs": [
    {
     "name": "stdout",
     "output_type": "stream",
     "text": [
      "58\n",
      "C\n"
     ]
    }
   ],
   "source": [
    "a = int(input())\n",
    "\n",
    "if a < 0:\n",
    "    if a % 2 == 0:\n",
    "        print(\"A\")\n",
    "    else:\n",
    "        print(\"B\")\n",
    "else:\n",
    "    if a % 2 == 0:\n",
    "        print(\"C\")\n",
    "    else:\n",
    "        print(\"D\")"
   ]
  },
  {
   "cell_type": "code",
   "execution_count": null,
   "id": "95a03463",
   "metadata": {},
   "outputs": [],
   "source": [
    "if a < 0:\n",
    "    if a % 2 == 0:\n",
    "        print('A')\n",
    "    else:\n",
    "        pirnt('B')\n",
    "        \n",
    "if a > 0:\n",
    "    if a % 2 == 0:\n",
    "        print('C')\n",
    "    else:\n",
    "        print('D')"
   ]
  },
  {
   "cell_type": "markdown",
   "id": "b94753a6",
   "metadata": {},
   "source": [
    "68.  \n",
    "\n",
    "---\n",
    "\n",
    "점수(정수, 0 ~ 100)를 입력받아 평가를 출력해보자.  \n",
    "\n",
    "평가 기준  \n",
    "점수 범위 : 평가  \n",
    " 90 ~ 100 : A  \n",
    " 70 ~   89 : B  \n",
    " 40 ~   69 : C  \n",
    "   0 ~   39 : D  \n",
    "로 평가되어야 한다.  \n",
    "\n",
    "예시  \n",
    "...  \n",
    "if n>=90 :  \n",
    "  print('A')  \n",
    "else :  \n",
    "  if n>=70 :  \n",
    "    print('B')  \n",
    "  else :  \n",
    "    if n>=40 :  \n",
    "      print('C')  \n",
    "    else :  \n",
    "      print('D')   \n",
    "...  \n",
    "\n",
    "참고  \n",
    "여러 조건들을 순서대로 비교하면서 처리하기 위해서 조건문을 여러 번 중첩할 수 있다.  \n",
    "\n",
    "if 조건식1 :  \n",
    "  ...  \n",
    "else :  \n",
    "  if 조건식2 :  \n",
    "    ...  \n",
    "  else :  \n",
    "    if 조건식3 :  \n",
    "      ...  \n",
    "    else :  \n",
    "      ...  \n",
    "...  \n",
    "와 같이 조건/선택 실행 구조를 겹쳐 작성하면 순서대로 조건을 검사할 수 있다.  \n",
    "어떤 조건이 참이면 그 부분의 내용을 실행하고 전체 조건/선택 구조를 빠져나가게 된다.  \n",
    "\n",
    "if 조건식1 :   \n",
    "  ...   \n",
    "elif 조건식2 :   \n",
    "  ...   \n",
    "elif 조건식3 :   \n",
    "  ...   \n",
    "else :   \n",
    "  ...  \n",
    "도 똑같은 기능을 한다. elif는 else if 의 짧은 약어라고 생각해도 된다.  \n",
    "elif 를 사용하면 if ... else ... 구조를 겹쳐 사용할 때처럼, 여러 번 안 쪽으로 들여쓰기 하지 않아도 된다.  \n",
    "\n",
    "입력 73  \n",
    "출력 B"
   ]
  },
  {
   "cell_type": "code",
   "execution_count": 24,
   "id": "fe48ae7a",
   "metadata": {},
   "outputs": [
    {
     "name": "stdout",
     "output_type": "stream",
     "text": [
      "73\n",
      "B\n"
     ]
    }
   ],
   "source": [
    "a = int(input())\n",
    "\n",
    "if a >= 90:\n",
    "    print(\"A\")\n",
    "elif a >= 70:\n",
    "    print(\"B\")\n",
    "elif a >= 40:\n",
    "    print(\"C\")\n",
    "else:\n",
    "    print(\"D\")"
   ]
  },
  {
   "cell_type": "markdown",
   "id": "c266a89d",
   "metadata": {},
   "source": [
    "69.  \n",
    "\n",
    "---\n",
    "\n",
    "평가를 문자(A, B, C, D, ...)로 입력받아 내용을 다르게 출력해보자.  \n",
    "\n",
    "평가 내용  \n",
    "평가 : 내용  \n",
    "A : best!!!  \n",
    "B : good!!  \n",
    "C : run!  \n",
    "D : slowly~  \n",
    "나머지 문자들 : what?  \n",
    "\n",
    "입 A  \n",
    "출 best!!!"
   ]
  },
  {
   "cell_type": "code",
   "execution_count": 26,
   "id": "f6dab5aa",
   "metadata": {},
   "outputs": [
    {
     "name": "stdout",
     "output_type": "stream",
     "text": [
      "C\n",
      "run!\n"
     ]
    }
   ],
   "source": [
    "textin = input()\n",
    "\n",
    "if textin == 'A':\n",
    "    print(\"best!!!\")\n",
    "elif textin == 'B':\n",
    "    print(\"good!!\")\n",
    "elif textin == 'C':\n",
    "    print(\"run!\")\n",
    "elif textin == 'D':\n",
    "    print(\"slowly~\")\n",
    "else:\n",
    "    print(\"what?\")"
   ]
  },
  {
   "cell_type": "markdown",
   "id": "92bf14d6",
   "metadata": {},
   "source": [
    "70.  \n",
    "\n",
    "---\n",
    "\n",
    "월이 입력될 때 계절 이름이 출력되도록 해보자.  \n",
    "\n",
    "월 : 계절 이름  \n",
    "12, 1, 2 : winter  \n",
    "  3, 4, 5 : spring  \n",
    "  6, 7, 8 : summer  \n",
    "  9, 10, 11 : fall  \n",
    "\n",
    "예시  \n",
    "...  \n",
    "if n//3==1 :  \n",
    "  print(\"spring\")  \n",
    "...  \n",
    "\n",
    "참고  \n",
    "때때로 수들의 특징을 관찰하고 이용하면 매우 간단히 해결할 수도 있다.  \n",
    "\n",
    "입 12  \n",
    "출 winter"
   ]
  },
  {
   "cell_type": "code",
   "execution_count": 27,
   "id": "53533e3c",
   "metadata": {},
   "outputs": [
    {
     "name": "stdout",
     "output_type": "stream",
     "text": [
      "12\n",
      "winter\n"
     ]
    }
   ],
   "source": [
    "a = int(input())\n",
    "\n",
    "if a <= 5 and a >= 3:\n",
    "    print('spring')\n",
    "elif a <= 8 and a >= 6:\n",
    "    print(\"summer\")\n",
    "elif a <= 11 and a >= 9:\n",
    "    print(\"fall\")\n",
    "else:\n",
    "    print('winter')"
   ]
  },
  {
   "cell_type": "code",
   "execution_count": 30,
   "id": "aedb23ad",
   "metadata": {},
   "outputs": [
    {
     "name": "stdout",
     "output_type": "stream",
     "text": [
      "6\n",
      "summer\n"
     ]
    }
   ],
   "source": [
    "a = int(input())\n",
    "\n",
    "if 3 <= a <= 5:\n",
    "    print(\"spring\")\n",
    "elif 6 <= a <= 8:\n",
    "    print(\"summer\")\n",
    "elif 9 <= a <= 11:\n",
    "    print(\"fall\")\n",
    "elif a == 12 or a == 1 or a == 2:\n",
    "    print(\"winter\")"
   ]
  },
  {
   "cell_type": "code",
   "execution_count": null,
   "id": "3ae10c8b",
   "metadata": {},
   "outputs": [],
   "source": []
  },
  {
   "cell_type": "code",
   "execution_count": null,
   "id": "120861af",
   "metadata": {},
   "outputs": [],
   "source": []
  },
  {
   "cell_type": "code",
   "execution_count": null,
   "id": "b14f4a12",
   "metadata": {},
   "outputs": [],
   "source": []
  },
  {
   "cell_type": "code",
   "execution_count": null,
   "id": "836df041",
   "metadata": {},
   "outputs": [],
   "source": []
  },
  {
   "cell_type": "code",
   "execution_count": null,
   "id": "a563ac32",
   "metadata": {},
   "outputs": [],
   "source": []
  }
 ],
 "metadata": {
  "kernelspec": {
   "display_name": "Python 3 (ipykernel)",
   "language": "python",
   "name": "python3"
  },
  "language_info": {
   "codemirror_mode": {
    "name": "ipython",
    "version": 3
   },
   "file_extension": ".py",
   "mimetype": "text/x-python",
   "name": "python",
   "nbconvert_exporter": "python",
   "pygments_lexer": "ipython3",
   "version": "3.8.20"
  }
 },
 "nbformat": 4,
 "nbformat_minor": 5
}
