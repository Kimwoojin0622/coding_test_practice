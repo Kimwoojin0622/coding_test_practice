{
 "cells": [
  {
   "cell_type": "markdown",
   "id": "ad51b3c3",
   "metadata": {},
   "source": [
    "71.  \n",
    "\n",
    "---\n",
    "\n",
    "임의의 정수가 줄을 바꿔 계속 입력된다.  \n",
    "-2147483648 ~ +2147483647, 단 개수는 알 수 없다.  \n",
    "\n",
    "0이 아니면 입력된 정수를 출력하고, 0이 입력되면 출력을 중단해보자.  \n",
    "\n",
    "예시  \n",
    "...  \n",
    "n = 1      #처음 조건 검사를 통과하기 위해 0 아닌 값을 임의로 저장  \n",
    "while n!=0 :  \n",
    "  n = int(input())  \n",
    "  if n!=0 :  \n",
    "    print(n)  \n",
    "...  \n",
    "  \n",
    "참고  \n",
    "if 조건식 :  \n",
    "  ...  \n",
    "  ...  \n",
    "\n",
    "\n",
    "구조를 사용하면,  \n",
    "주어진 조건식의 평가 결과가 True 인 경우에만, 들여쓰기로 구분된 코드블록이 실행된다.  \n",
    "\n",
    "if 를 while 로 바꾸면?  \n",
    "\n",
    "while 조건식 :  \n",
    "  ...  \n",
    "  ...  \n",
    "\n",
    "와 같은 방법으로 반복해서 실행시킬 수 있다.  \n",
    "\n",
    "실행되는 과정은  \n",
    "1. 조건식을 평가한다.  \n",
    "2. True 인 경우 코드블록을 실행한다.  \n",
    "3. 다시 조건식을 평가한다.  \n",
    "4. True 인 경우 코드블록을 실행한다.  \n",
    "...  \n",
    "... 조건식의 평가 값이 False 인 경우 반복을 중단하고, 그 다음 명령을 실행한다.  \n",
    "\n",
    "조건식의 평가 결과가 True 동안만 반복 실행된다.   \n",
    "\n",
    "반복실행구조 안에 다른 조건/선택실행구조를 넣을 수도 있고...  \n",
    "조건/선택실행구조 안에 다른 반복실행구조를 넣을 수도 있다.  \n",
    "\n",
    "입  \n",
    "7  \n",
    "4  \n",
    "2  \n",
    "3  \n",
    "0  \n",
    "1  \n",
    "5  \n",
    "6  \n",
    "9  \n",
    "10  \n",
    "8  \n",
    "\n",
    "출  \n",
    "7  \n",
    "4  \n",
    "2  \n",
    "3  "
   ]
  },
  {
   "cell_type": "code",
   "execution_count": 3,
   "id": "b43e284c",
   "metadata": {},
   "outputs": [
    {
     "name": "stdout",
     "output_type": "stream",
     "text": [
      "7\n",
      "7\n",
      "4\n",
      "4\n",
      "2\n",
      "2\n",
      "3\n",
      "3\n",
      "0\n"
     ]
    }
   ],
   "source": [
    "a = 66\n",
    "\n",
    "while a != 0:\n",
    "    a = int(input())\n",
    "    if a != 0:\n",
    "        print(a)"
   ]
  },
  {
   "cell_type": "markdown",
   "id": "1eb78582",
   "metadata": {},
   "source": [
    "72.  \n",
    "\n",
    "---\n",
    "\n",
    "정수(1 ~ 100) 1개가 입력되었을 때 카운트다운을 출력해보자.  \n",
    "\n",
    "while 조건식 :  \n",
    "  ...  \n",
    "  ...  \n",
    "반복 실행구조를 사용해 보자.  \n",
    "\n",
    "예시  \n",
    "...  \n",
    "while n!=0 :  \n",
    "  print(n)  \n",
    "  n = n-1  \n",
    "...  \n",
    "\n",
    "참고  \n",
    "n = n-1  #n에 저장되어있던 값에서 1만큼 뺀 후, 그 값을 다시 n에 저장시킨다.  \n",
    "n -= 1 과 같이 짧게 작성할 수도 있다. n -= 1 은 n = n-1 과 같은 의미이다.  \n",
    "이렇게 산술연산자(+, -, *, / ... )와 대입 연산자(=)를 함께 쓰는 것을 복합대입연산자라고도 부른다.  \n",
    "같은 방법으로 +=, *=, /=, //=, %=, &=, |=, ^=, >>=, <<=, **= 등과 같이 짧게 작성할 수 있다.  \n",
    "\n",
    "처음에 조건식을 검사하고, 그 다음에 실행하고, 그 다음에 값을 바꾸고...  \n",
    "다시 조건식을 검사하고, 실행하고, 값을 바꾸고...  \n",
    "\n",
    "입 5  \n",
    "출  \n",
    "5  \n",
    "4  \n",
    "3  \n",
    "2  \n",
    "1  "
   ]
  },
  {
   "cell_type": "code",
   "execution_count": 4,
   "id": "e0052bc9",
   "metadata": {},
   "outputs": [
    {
     "name": "stdout",
     "output_type": "stream",
     "text": [
      "5\n",
      "5\n",
      "4\n",
      "3\n",
      "2\n",
      "1\n"
     ]
    }
   ],
   "source": [
    "a = int(input())\n",
    "\n",
    "while a != 0:\n",
    "    print(a)\n",
    "    a -= 1"
   ]
  },
  {
   "cell_type": "markdown",
   "id": "bf8ff1cd",
   "metadata": {},
   "source": [
    "73.  \n",
    "\n",
    "---\n",
    "\n",
    "정수(1 ~ 100) 1개가 입력되었을 때 카운트다운을 출력해보자.  \n",
    "\n",
    "while 조건식 :  \n",
    "  ...  \n",
    "  ...  \n",
    "\n",
    "반복 실행구조를 사용해 보자.  \n",
    "\n",
    "참고  \n",
    "조건검사, 출력, 감소의 순서와 타이밍을 잘 생각해보자.  \n",
    "\n",
    "입 5  \n",
    "출  \n",
    "4  \n",
    "3  \n",
    "2  \n",
    "1  \n",
    "0  "
   ]
  },
  {
   "cell_type": "code",
   "execution_count": 6,
   "id": "75c11c68",
   "metadata": {},
   "outputs": [
    {
     "name": "stdout",
     "output_type": "stream",
     "text": [
      "5\n",
      "4\n",
      "3\n",
      "2\n",
      "1\n",
      "0\n"
     ]
    }
   ],
   "source": [
    "a = int(input())\n",
    "\n",
    "while a > 0:\n",
    "    a -= 1\n",
    "    print(a)"
   ]
  },
  {
   "cell_type": "markdown",
   "id": "1febe4e4",
   "metadata": {},
   "source": [
    "74. ✅  \n",
    "\n",
    "---\n",
    "\n",
    "영문 소문자(a ~ z) 1개가 입력되었을 때,  \n",
    "a부터 그 문자까지의 알파벳을 순서대로 출력해보자.  \n",
    "\n",
    "예시  \n",
    "c = ord(input())  \n",
    "t = ord('a')  \n",
    "while t<=c :  \n",
    "  print(chr(t), end=' ')  \n",
    "  t += 1  \n",
    "\n",
    "참고  \n",
    "알파벳 문자 a의 정수값은 ord('a')로 알아낼 수 있다.  \n",
    "chr(정수값)을 이용하면 유니코드 문자로 출력할 수 있다.  \n",
    "print(..., end=' ') 와 같이 작성하면 값 출력 후 공백문자 ' '를 출력한다. 즉, 마지막에 줄을 바꾸지 않고 빈칸만 띄운다.  \n",
    "(end='\\n'로 작성하거나 생략하면, 값을 출력한 후 마지막(end)에 줄바꿈(newline)이 된다.)  \n",
    "\n",
    "입 f  \n",
    "출 a b c d e f  "
   ]
  },
  {
   "cell_type": "code",
   "execution_count": 14,
   "id": "bcbdb9f6",
   "metadata": {},
   "outputs": [
    {
     "name": "stdout",
     "output_type": "stream",
     "text": [
      "f\n",
      "a b c d e f "
     ]
    }
   ],
   "source": [
    "char_num = ord(input())\n",
    "a_num = ord('a')\n",
    "\n",
    "while a_num <= char_num:\n",
    "    print(chr(a_num), end=' ')\n",
    "    a_num += 1"
   ]
  },
  {
   "cell_type": "markdown",
   "id": "e9c525f2",
   "metadata": {},
   "source": [
    "75.  \n",
    "\n",
    "---\n",
    "\n",
    "정수(0 ~ 100) 1개를 입력받아 0부터 그 수까지 순서대로 출력해보자.  \n",
    "\n",
    "입 4  \n",
    "출  \n",
    "0  \n",
    "1  \n",
    "2  \n",
    "3  \n",
    "4  "
   ]
  },
  {
   "cell_type": "code",
   "execution_count": 16,
   "id": "1bc52cce",
   "metadata": {},
   "outputs": [
    {
     "name": "stdout",
     "output_type": "stream",
     "text": [
      "4\n",
      "0\n",
      "1\n",
      "2\n",
      "3\n",
      "4\n"
     ]
    }
   ],
   "source": [
    "a = int(input())\n",
    "b = 0\n",
    "\n",
    "while b <= a:\n",
    "    print(b)\n",
    "    b = b+1"
   ]
  },
  {
   "cell_type": "markdown",
   "id": "4c492a4f",
   "metadata": {},
   "source": [
    "76.  \n",
    "\n",
    "---\n",
    "\n",
    "정수(0 ~ 100) 1개를 입력받아 0부터 그 수까지 순서대로 출력해보자.  \n",
    "\n",
    "예시  \n",
    "n = int(input())  \n",
    "for i in range(n+1) :  \n",
    "  print(i)  \n",
    "\n",
    "참고  \n",
    "range(n) 은 0, 1, 2, ... , n-2, n-1 까지의 수열을 의미한다.  \n",
    "예를 들어 range(3) 은 0, 1, 2 인 수열을 의미한다.  \n",
    "\n",
    "for i in range(n) :    #range(n)에 들어있는(in) 각각의 수에 대해서(for) 순서대로 i에 저장해 가면서...  \n",
    "이때의 for는 각각의 값에 대하여... 라는 for each 의 의미를 가진다고 생각할 수 있다.  \n",
    "\n",
    "range(끝)  \n",
    "range(시작, 끝)  \n",
    "range(시작, 끝, 증감)  \n",
    "형태로 수열을 표현할 수 있다. 시작 수는 포함이고, 끝 수는 포함되지 않는다. [시작, 끝)  \n",
    "증감할 수를 작성하지 않으면 +1이 된다.  \n",
    "\n",
    "반복 실행구조에 반복 횟수를 기록/저장하는 변수로 i를 자주 사용하는데,  \n",
    "i 는 반복자(iterator)를 나타내는 i라고 생각할 수 있다. i, j, k ... 알파벳 순으로 사용하기도 한다.  \n",
    "\n",
    "입 4  \n",
    "출  \n",
    "0  \n",
    "1  \n",
    "2  \n",
    "3  \n",
    "4  "
   ]
  },
  {
   "cell_type": "code",
   "execution_count": 17,
   "id": "005ef5f7",
   "metadata": {},
   "outputs": [
    {
     "name": "stdout",
     "output_type": "stream",
     "text": [
      "4\n",
      "0\n",
      "1\n",
      "2\n",
      "3\n",
      "4\n"
     ]
    }
   ],
   "source": [
    "a = int(input())\n",
    "\n",
    "for i in range(0,a+1):\n",
    "    print(i)"
   ]
  },
  {
   "cell_type": "markdown",
   "id": "b12441e9",
   "metadata": {},
   "source": [
    "77.  \n",
    "\n",
    "---\n",
    "\n",
    "정수(1 ~ 100) 1개를 입력받아 1부터 그 수까지 짝수의 합을 구해보자.  \n",
    "\n",
    "예시  \n",
    "#다음 코드는 홀 수만 더해 출력한다.  \n",
    "n = int(input())  \n",
    "s = 0  \n",
    "for i in range(1, n+1) :  \n",
    "  if i%2==1 :  \n",
    "    s += i  \n",
    "\n",
    "print(s)  \n",
    "\n",
    "참고  \n",
    "while 이나 for 반복실행구조를 이용할 수 있다.  \n",
    "다른 방법이나 while 반복실행구조를 이용해서도 성공시켜 보자.  \n",
    "\n",
    "입 5  \n",
    "출 6"
   ]
  },
  {
   "cell_type": "code",
   "execution_count": 19,
   "id": "11663355",
   "metadata": {},
   "outputs": [
    {
     "name": "stdout",
     "output_type": "stream",
     "text": [
      "5\n",
      "6\n"
     ]
    }
   ],
   "source": [
    "a = int(input())\n",
    "result = 0\n",
    "\n",
    "for i in range(1, a+1):\n",
    "    if i % 2 == 0:\n",
    "        result += i\n",
    "        \n",
    "print(result)"
   ]
  },
  {
   "cell_type": "markdown",
   "id": "70e4ece1",
   "metadata": {},
   "source": [
    "78.  \n",
    "\n",
    "---\n",
    "\n",
    "영문 소문자 'q'가 입력될 때까지  \n",
    "입력한 문자를 계속 출력하는 프로그램을 작성해보자.  \n",
    "\n",
    "입  \n",
    "x  \n",
    "b  \n",
    "k  \n",
    "d  \n",
    "l  \n",
    "q  \n",
    "g  \n",
    "a  \n",
    "\n",
    "출  \n",
    "x  \n",
    "b  \n",
    "k  \n",
    "d  \n",
    "l  \n",
    "q  "
   ]
  },
  {
   "cell_type": "code",
   "execution_count": 22,
   "id": "3e5fdde2",
   "metadata": {},
   "outputs": [
    {
     "name": "stdout",
     "output_type": "stream",
     "text": [
      "x\n",
      "x\n",
      "b\n",
      "b\n",
      "k\n",
      "k\n",
      "d\n",
      "d\n",
      "l\n",
      "l\n",
      "q\n",
      "q\n"
     ]
    }
   ],
   "source": [
    "my_char = 'a'\n",
    "\n",
    "while my_char != 'q':\n",
    "    my_char = input()\n",
    "    print(my_char)"
   ]
  },
  {
   "cell_type": "code",
   "execution_count": 23,
   "id": "a5c77601",
   "metadata": {},
   "outputs": [
    {
     "name": "stdout",
     "output_type": "stream",
     "text": [
      "x\n",
      "x\n",
      "b\n",
      "b\n",
      "k\n",
      "k\n",
      "d\n",
      "d\n",
      "l\n",
      "l\n",
      "q\n",
      "q\n"
     ]
    }
   ],
   "source": [
    "while True:\n",
    "    my_char = input()\n",
    "    print(my_char)\n",
    "    if my_char == 'q':\n",
    "        break"
   ]
  },
  {
   "cell_type": "markdown",
   "id": "65f56255",
   "metadata": {},
   "source": [
    "79.✅  \n",
    "\n",
    "---  \n",
    "\n",
    "1, 2, 3 ... 을 계속 더해 나갈 때,  \n",
    "그 합이 입력한 정수(0 ~ 1000)보다 같거나 작을 때까지만  \n",
    "계속 더하는 프로그램을 작성해보자.  \n",
    "\n",
    "즉, 1부터 n까지 정수를 계속 더해 나간다고 할 때,  \n",
    "어디까지 더해야 입력한 수보다 같거나 커지는 지를 알아보고자하는 문제이다.  \n",
    "\n",
    "입 55  \n",
    "출 10  "
   ]
  },
  {
   "cell_type": "code",
   "execution_count": 28,
   "id": "cc5c8608",
   "metadata": {},
   "outputs": [
    {
     "name": "stdout",
     "output_type": "stream",
     "text": [
      "55\n",
      "10\n"
     ]
    }
   ],
   "source": [
    "a = int(input())\n",
    "\n",
    "result = 0\n",
    "i = 0\n",
    "\n",
    "while result < a:\n",
    "    i = i+1\n",
    "    result = result + i\n",
    "    \n",
    "print(i)"
   ]
  },
  {
   "cell_type": "markdown",
   "id": "ae9f0a8b",
   "metadata": {},
   "source": [
    "80.  \n",
    "\n",
    "---\n",
    "\n",
    "1부터 n까지, 1부터 m까지 숫자가 적힌 서로 다른 주사위 2개를 던졌을 때,  \n",
    "나올 수 있는 모든 경우를 출력해보자.  \n",
    "\n",
    "예시  \n",
    "...  \n",
    "for i in range(1, n+1) :  \n",
    "  for j in range(1, m+1) :  \n",
    "    print(i, j)  \n",
    "...  \n",
    "\n",
    "참고  \n",
    "위 코드는  \n",
    "바깥쪽의 i 값이 1부터 n까지 순서대로 바뀌는 각각의 동안에  \n",
    "안쪽의 j 값이 다시 1부터 m까지 변하며 출력되는 코드이다.  \n",
    "\n",
    "조건선택 실행구조 안에 다른 조건선택 실행구조를 넣어 처리할 수 있는 것과 마찬가지로  \n",
    "반복 실행구조 안에 다른 반복 실행구조를 넣어 처리할 수 있다.  \n",
    "\n",
    "원하는 형태로 실행 구조를 결합하거나 중첩시킬 수 있다.  \n",
    "\n",
    "입 2 3  \n",
    "출력  \n",
    "1 1  \n",
    "1 2  \n",
    "1 3  \n",
    "2 1  \n",
    "2 2  \n",
    "2 3"
   ]
  },
  {
   "cell_type": "code",
   "execution_count": 1,
   "id": "10f88a32",
   "metadata": {},
   "outputs": [
    {
     "name": "stdout",
     "output_type": "stream",
     "text": [
      "2 3\n",
      "1 1 \n",
      "1 2 \n",
      "1 3 \n",
      "2 1 \n",
      "2 2 \n",
      "2 3 \n"
     ]
    }
   ],
   "source": [
    "a,b = map(int, input().split())\n",
    "\n",
    "for i in range(1, a+1):\n",
    "    for j in range(1, b+1):\n",
    "        print(i, j, end=\" \")\n",
    "        print(\"\")"
   ]
  },
  {
   "cell_type": "markdown",
   "id": "420abf92",
   "metadata": {},
   "source": [
    "81.✅   \n",
    "\n",
    "---\n",
    "\n",
    "16진수(0, 1, 2, 3, 4, 5, 6, 7, 8, 9, A, B, C, D, E, F)를 배운  \n",
    "영일이는 16진수끼리 곱하는 16진수 구구단?에 대해서 궁금해졌다.  \n",
    "\n",
    "A, B, C, D, E, F 중 하나가 입력될 때,  \n",
    "1부터 F까지 곱한 16진수 구구단의 내용을 출력해보자.  \n",
    "(단, A ~ F 까지만 입력된다.)  \n",
    "\n",
    "예시  \n",
    "...  \n",
    "  print('%X'%n, '*%X'%i, '=%X'%(n*i), sep='')  \n",
    "...  \n",
    "\n",
    "참고  \n",
    "print('%X'%n)    #n에 저장되어있는 값을 16진수(hexadecimal) 형태로 출력  \n",
    "작은 따옴표 2개를 사용해서 print(..., sep='') 으로 출력하면, 공백없이 모두 붙여 출력된다.  \n",
    "작은 따옴표 2개 '' 또는 큰 따옴표 2개 \"\" 는 아무 문자도 없는 빈문자열(empty string)을 의미한다.  \n",
    "\n",
    "입 B  \n",
    "출  \n",
    "B * 1 = B  \n",
    "B * 2 = 16  \n",
    "B * 3 = 21  \n",
    "B * 4 = 20  \n",
    "B * 5 = 37  \n",
    ".  \n",
    ".  \n",
    ".  \n",
    "B * E = 9A  \n",
    "B * F = A5"
   ]
  },
  {
   "cell_type": "code",
   "execution_count": 29,
   "id": "e51f0511",
   "metadata": {},
   "outputs": [
    {
     "name": "stdout",
     "output_type": "stream",
     "text": [
      "B\n",
      "B*1=B\n",
      "B*2=16\n",
      "B*3=21\n",
      "B*4=2C\n",
      "B*5=37\n",
      "B*6=42\n",
      "B*7=4D\n",
      "B*8=58\n",
      "B*9=63\n",
      "B*A=6E\n",
      "B*B=79\n",
      "B*C=84\n",
      "B*D=8F\n",
      "B*E=9A\n",
      "B*F=A5\n"
     ]
    }
   ],
   "source": [
    "n = int(input(), 16)\n",
    "\n",
    "for i in range(1, 16):\n",
    "    print('%X'%n, '*', '%X'%i, '=', '%X'%(n*i), sep=\"\")"
   ]
  },
  {
   "cell_type": "markdown",
   "id": "c95d9af6",
   "metadata": {},
   "source": [
    "82.  \n",
    "\n",
    "---\n",
    "\n",
    "친구들과 함께 3 6 9 게임을 하던 영일이는 잦은 실수 때문에 계속해서 벌칙을 받게 되었다.  \n",
    "3 6 9 게임의 왕이 되기 위한 369 마스터 프로그램을 작성해 보자.  \n",
    "\n",
    "** 3 6 9 게임은?  \n",
    "여러 사람이 순서를 정한 후, 순서대로 수를 부르는 게임이다.  \n",
    "만약 3, 6, 9 가 들어간 수를 자신이 불러야 하는 상황이라면, 수를 부르는 대신 \"박수(X)\" 를 쳐야 한다.  \n",
    "33과 같이 3,6,9가 두 번 들어간 수 일때, \"짝짝\"과 같이 박수를 두 번 치는 형태도 있다.   \n",
    "\n",
    "참고   \n",
    "...  \n",
    "for i in range(1, n+1) :  \n",
    "  if i%10==3 :  \n",
    "    print(\"X\", end=' ')    #출력 후 공백문자(빈칸, ' ')로 끝냄  \n",
    "...  \n",
    "\n",
    "입 9  \n",
    "출 1 2 X 4 5 X 7 8 X"
   ]
  },
  {
   "cell_type": "code",
   "execution_count": 40,
   "id": "61a3674e",
   "metadata": {},
   "outputs": [
    {
     "name": "stdout",
     "output_type": "stream",
     "text": [
      "9\n",
      "1 2 X 4 5 X 7 8 X "
     ]
    }
   ],
   "source": [
    "a = int(input())\n",
    "\n",
    "for i in range(1, a+1):\n",
    "    if i % 10 == 3:\n",
    "        print('X', end=' ')\n",
    "    elif i % 10 == 6:\n",
    "        print('X', end=' ')\n",
    "    elif i % 10 == 9:\n",
    "        print('X', end=' ')\n",
    "    else:\n",
    "        print(i, end=' ')"
   ]
  },
  {
   "cell_type": "markdown",
   "id": "1d012504",
   "metadata": {},
   "source": [
    "83.  \n",
    "\n",
    "---\n",
    "\n",
    "빨강(red), 초록(green), 파랑(blue) 빛을 섞어 여러 가지 다른 색 빛을 만들어 내려고 한다.  \n",
    "\n",
    "빨강(r), 초록(g), 파랑(b) 각 빛의 가짓수가 주어질 때,  \n",
    "주어진 rgb 빛들을 섞어 만들 수 있는 모든 경우의 조합(r g b)과 만들 수 있는 색의 가짓 수를 계산해보자.    \n",
    "\n",
    "**모니터, 스마트폰과 같은 디스플레이에서 각 픽셀의 색을 만들어내기 위해서 r, g, b 색을 조합할 수 있다.  \n",
    "**픽셀(pixel)은 그림(picture)을 구성하는 셀(cell)에서 이름이 만들어졌다.  "
   ]
  },
  {
   "cell_type": "code",
   "execution_count": 57,
   "id": "1becb9f1",
   "metadata": {},
   "outputs": [
    {
     "name": "stdout",
     "output_type": "stream",
     "text": [
      "2 2 2\n",
      "0 0 0\n",
      "0 0 1\n",
      "0 1 0\n",
      "0 1 1\n",
      "1 0 0\n",
      "1 0 1\n",
      "1 1 0\n",
      "1 1 1\n",
      "8\n"
     ]
    }
   ],
   "source": [
    "a, b, c = map(int, input().split())\n",
    "result = 0\n",
    "\n",
    "for i in range(0, a):\n",
    "    for j in range(0, b):\n",
    "        for p in range(0, c):\n",
    "            result = result + 1\n",
    "            print(i, j, p)\n",
    "\n",
    "print(result)"
   ]
  },
  {
   "cell_type": "markdown",
   "id": "fce36f14",
   "metadata": {},
   "source": [
    "84.  \n",
    "\n",
    "---\n",
    "\n",
    "소리가 컴퓨터에 저장될 때에는 디지털 데이터화 되어 저장된다.  \n",
    "\n",
    "마이크를 통해 1초에 적게는 수십 번, 많게는 수만 번 소리의 강약을 체크하고,  \n",
    "한 번씩 체크할 때 마다 그 값을 정수값으로 바꾸어 저장하는 방식으로 소리를 파일로 저장할 수 있다.  \n",
    "\n",
    "값을 저장할 때에는 비트를 사용하는 정도에 따라 세세한 녹음 정도를 결정할 수 있고,  \n",
    "좌우(스테레오) 채널로 저장하면 2배… 5.1채널이면 6배의 저장공간이 필요하고,  \n",
    "녹음 시간이 길면 그 만큼 더 많은 저장공간이 필요하다.  \n",
    "\n",
    "1초 동안 마이크로 소리강약을 체크하는 횟수를 h  \n",
    "(헤르쯔, Hz 는 1초에 몇 번? 체크하는가를 의미한다.)  \n",
    "\n",
    "한 번 체크한 값을 저장할 때 사용하는 비트수를 b  \n",
    "(2비트를 사용하면 0 또는 1 두 가지, 16비트를 사용하면 65536가지..)  \n",
    "\n",
    "좌우 등 소리를 저장할 트랙 개수인 채널 개수를 c  \n",
    "(모노는 1개, 스테레오는 2개의 트랙으로 저장함을 의미한다.)  \n",
    "\n",
    "녹음할 시간(초) s가 주어질 때,  \n",
    "\n",
    "필요한 저장 용량을 계산하는 프로그램을 작성해보자.  \n",
    "\n",
    "실제로, 일반적인 CD 음질(44.1KHz, 16bit, 스테레오)로 1초 동안 저장하려면  \n",
    "44100 * 16 * 2 * 1 bit의 저장공간이 필요한데,  \n",
    "44100*16*2*1/8/1024/1024 로 계산하면 약 0.168 MB 정도가 필요하다.  \n",
    "\n",
    "이렇게 녹음하는 방식을 PCM(Pulse Code Modulation) 방법이라고 하는데,  \n",
    "압축하지 않은 순수한(raw) 소리 데이터 파일은 대표적으로 *.wav 가 있다.  \n",
    "\n",
    "**  \n",
    "      8 bit(비트)           = 1byte(바이트)       # 8bit=1Byte  \n",
    "1024 Byte(210 byte) = 1KB(킬로 바이트)  # 1024Byte=1KB  \n",
    "1024 KB(210 KB)      = 1MB(메가 바이트)  \n",
    "1024 MB(210 MB)     = 1GB(기가 바이트)  \n",
    "1024 GB(210 GB)      = 1TB(테라 바이트)  \n",
    "\n",
    "입 44100 16 2 10  \n",
    "출 1.7 MB"
   ]
  },
  {
   "cell_type": "code",
   "execution_count": 59,
   "id": "ee338636",
   "metadata": {},
   "outputs": [
    {
     "name": "stdout",
     "output_type": "stream",
     "text": [
      "44100 16 2 10\n",
      "1.7 MB\n"
     ]
    }
   ],
   "source": [
    "h, b, c, s = map(int, input().split())\n",
    "\n",
    "result_bit = h * b * c * s\n",
    "\n",
    "result = ((result_bit / 8) / 1024 / 1024)\n",
    "\n",
    "print(format(result, \".1f\"), 'MB')"
   ]
  },
  {
   "cell_type": "markdown",
   "id": "d627b003",
   "metadata": {},
   "source": [
    "85.  \n",
    "\n",
    "---\n",
    "\n",
    "이미지가 컴퓨터에 저장될 때에도 디지털 데이터화 되어 저장된다.  \n",
    "\n",
    "가장 기본적인 방법으로는 그림을 구성하는 한 점(pixel, 픽셀)의 색상을  \n",
    "빨강(r), 초록(g), 파랑(b)의 3가지의 빛의 세기 값으로 따로 변환하여 저장하는 것인데,  \n",
    "\n",
    "예를 들어 r, g, b 각 색에 대해서 8비트(0~255, 256가지 가능)씩을 사용한다고 하면,  \n",
    "\n",
    "한 점의 색상은 3가지 r, g, b의 8비트+8비트+8비트로 총 24비트로 표현해서  \n",
    "총 2^24 가지의 서로 다른 빛의 색깔을 사용할 수 있는 것이다.  \n",
    "\n",
    "그렇게 저장하는 점을 모아 하나의 큰 이미지를 저장할 수 있게 되는데,  \n",
    "1024 * 768 사이즈에 각 점에 대해 24비트로 저장하면 그 이미지를 저장하기 위한  \n",
    "저장 용량을 계산할 수 있다.  \n",
    "\n",
    "이렇게 이미지의 원래(raw) 데이터를 압축하지 않고 그대로 저장하는 대표적인 이미지 파일이  \n",
    "*.bmp 파일이며, 비트로 그림을 구성한다고 하여 비트맵 방식 또는 래스터 방식이라고 한다.  \n",
    "\n",
    "이미지의 가로 해상도 w, 세로 해상도 h, 한 픽셀을 저장하기 위한 비트 b 가 주어질 때,  \n",
    "압축하지 않고 저장하기 위해 필요한 저장 용량을 계산하는 프로그램을 작성해 보자.  \n",
    "\n",
    "예를 들어  \n",
    "일반적인 1024 * 768 사이즈(해상도)의 각점에 대해  \n",
    "24비트(rgb 각각 8비트씩 3개)로 저장하려면  \n",
    "1024 * 768 * 24 bit의 저장공간이 필요한데,  \n",
    "1024*768*24/8/1024/1024 로 계산하면 약 2.25 MB 정도가 필요하다.  \n",
    "\n",
    "실제 그런지 확인하고 싶다면, 간단한 그림 편집/수정 프로그램을 통해 확인할 수 있다.  \n",
    "\n",
    "**  \n",
    "      8 bit(비트)           = 1byte(바이트)     #       8bit=1Byte  \n",
    "1024 Byte(210 byte) = 1KB(킬로 바이트)  # 1024Byte=1KB  \n",
    "1024 KB(210 KB)      = 1MB(메가 바이트)  \n",
    "1024 MB(210 MB)     = 1GB(기가 바이트)  \n",
    "1024 GB(210 GB)      = 1TB(테라 바이트)  \n",
    "\n",
    "입 1024 768 24  \n",
    "출 2.25 MB"
   ]
  },
  {
   "cell_type": "code",
   "execution_count": 61,
   "id": "f5eacdf0",
   "metadata": {},
   "outputs": [
    {
     "name": "stdout",
     "output_type": "stream",
     "text": [
      "1024 768 24\n",
      "2.25 MB\n"
     ]
    }
   ],
   "source": [
    "w, h, b = map(int, input().split())\n",
    "\n",
    "result_bit = w * h * b\n",
    "\n",
    "result = ((result_bit/8)/1024/1024)\n",
    "\n",
    "print(format(result, \".2f\"), 'MB')"
   ]
  },
  {
   "cell_type": "markdown",
   "id": "079dfc42",
   "metadata": {},
   "source": [
    "86.  \n",
    "\n",
    "---\n",
    "\n",
    "1, 2, 3 ... 을 순서대로 계속 더해 합을 만드는데,  \n",
    "그 합이 입력한 정수보다 작을 동안만 계속 더하는 프로그램을 작성해보자.  \n",
    "\n",
    "즉, 1부터 n까지 정수를 하나씩 더해 합을 만드는데,  \n",
    "어디까지 더해야 입력한 수보다 같거나 커지는지 알아보고자 하는 문제이다.  \n",
    "\n",
    "하지만, 이번에는 그 때 까지의 합을 출력해야 한다.  \n",
    "\n",
    "예를 들어, 57을 입력하면  \n",
    "1+2+3+...+8+9+10=55에서 그 다음 수인 11을 더해 66이 될 때,  \n",
    "그 값 66이 출력되어야 한다.  \n",
    "\n",
    "예시  \n",
    "...  \n",
    "while True :  \n",
    "  s += c  \n",
    "  c += 1  \n",
    "  if s>=n :  \n",
    "    break  \n",
    "  \n",
    "print(s)  \n",
    "\n",
    "참고  \n",
    "조건문이나 반복문의 코드블록 안에서 break 가 실행되면,  \n",
    "반복실행을 중단(break)하고, 가장 가까운 반복 블록의 밖으로 빠져나간다.  \n",
    "\n",
    "입 57  \n",
    "출 66 "
   ]
  },
  {
   "cell_type": "code",
   "execution_count": 73,
   "id": "2f25c475",
   "metadata": {},
   "outputs": [
    {
     "name": "stdout",
     "output_type": "stream",
     "text": [
      "57\n",
      "66\n"
     ]
    }
   ],
   "source": [
    "n = int(input())\n",
    "result = 0\n",
    "i = 0\n",
    "\n",
    "while True:\n",
    "    i = i+1\n",
    "    result = result + i\n",
    "    if result >= n:\n",
    "        break\n",
    "        \n",
    "print(result)"
   ]
  },
  {
   "cell_type": "code",
   "execution_count": 72,
   "id": "74b3aedc",
   "metadata": {},
   "outputs": [
    {
     "name": "stdout",
     "output_type": "stream",
     "text": [
      "57\n",
      "66\n"
     ]
    }
   ],
   "source": [
    "n = int(input())\n",
    "result = 0\n",
    "i = 0\n",
    "\n",
    "while result < n:\n",
    "    i = i+1\n",
    "    result = result + i\n",
    "    \n",
    "print(result)"
   ]
  }
 ],
 "metadata": {
  "kernelspec": {
   "display_name": "Python 3 (ipykernel)",
   "language": "python",
   "name": "python3"
  },
  "language_info": {
   "codemirror_mode": {
    "name": "ipython",
    "version": 3
   },
   "file_extension": ".py",
   "mimetype": "text/x-python",
   "name": "python",
   "nbconvert_exporter": "python",
   "pygments_lexer": "ipython3",
   "version": "3.8.20"
  }
 },
 "nbformat": 4,
 "nbformat_minor": 5
}
