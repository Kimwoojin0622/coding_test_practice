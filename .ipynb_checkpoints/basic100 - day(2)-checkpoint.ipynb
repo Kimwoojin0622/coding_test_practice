{
 "cells": [
  {
   "cell_type": "markdown",
   "id": "62111b72",
   "metadata": {},
   "source": [
    "36.  \n",
    "\n",
    "---\n",
    "\n",
    "단어와 반복 횟수를 입력받아 여러 번 출력해보자.  \n",
    "\n",
    "예시  \n",
    "w, n = input().split()  \n",
    "print(w*int(n))  \n",
    "\n",
    "참고  \n",
    "문자열 * 정수 또는 정수 * 문자열은 그 문자열을 여러 번 반복한 문자열을 만들어 준다.  \n",
    "\n",
    "입 love 3  \n",
    "출 lovelovelove"
   ]
  },
  {
   "cell_type": "code",
   "execution_count": 1,
   "id": "a04ea2f2",
   "metadata": {},
   "outputs": [
    {
     "name": "stdout",
     "output_type": "stream",
     "text": [
      "love 3\n",
      "lovelovelove\n"
     ]
    }
   ],
   "source": [
    "a,b = input().split()\n",
    "\n",
    "b = int(b)\n",
    "\n",
    "print(a*b)"
   ]
  },
  {
   "cell_type": "markdown",
   "id": "2870791b",
   "metadata": {},
   "source": [
    "37.  \n",
    "\n",
    "---\n",
    "\n",
    "반복 횟수와 문장을 입력받아 여러 번 출력해보자.  \n",
    "\n",
    "예시  \n",
    "n = input()   \n",
    "s = input()  \n",
    "print(int(n)*s)  \n",
    "\n",
    "참고  \n",
    "문자열 * 정수 또는 정수 * 문자열은 그 문자열을 여러 번 반복한 문자열을 만들어 준다.  \n",
    "\n",
    "입  \n",
    "3  \n",
    "I love CS  \n",
    "출  \n",
    "I love CSI love CSI love CS"
   ]
  },
  {
   "cell_type": "code",
   "execution_count": 2,
   "id": "16ba547f",
   "metadata": {},
   "outputs": [
    {
     "name": "stdout",
     "output_type": "stream",
     "text": [
      "3\n",
      "I love CS\n",
      "I love CSI love CSI love CS\n"
     ]
    }
   ],
   "source": [
    "a = int(input())\n",
    "b = input()\n",
    "\n",
    "print(b*a)"
   ]
  },
  {
   "cell_type": "markdown",
   "id": "f01424e7",
   "metadata": {},
   "source": [
    "38.  \n",
    "\n",
    "---\n",
    "\n",
    "정수 2개(a, b)를 입력받아  \n",
    "a를 b번 곱한 거듭제곱을 출력하는 프로그램을 작성해보자.  \n",
    "\n",
    "예시  \n",
    "...  \n",
    "c = a**b  \n",
    "print(c)  \n",
    "\n",
    "참고  \n",
    "python 언어에서는 거듭제곱을 계산하는 연산자(**)를 제공한다.  \n",
    "일반적으로 수학 식에서 거듭제곱을 표현하는 사용하는 서컴플렉스/케릿 기호(^)는 프로그래밍언어에서 다른 의미로 쓰인다.  \n",
    "\n",
    "입 2 10  \n",
    "출 1024"
   ]
  },
  {
   "cell_type": "code",
   "execution_count": 7,
   "id": "2b30ba7f",
   "metadata": {},
   "outputs": [
    {
     "name": "stdout",
     "output_type": "stream",
     "text": [
      "2 10\n",
      "1024\n"
     ]
    }
   ],
   "source": [
    "a,b = input().split()\n",
    "\n",
    "a,b = int(a), int(b)\n",
    "\n",
    "print(a**b)"
   ]
  },
  {
   "cell_type": "markdown",
   "id": "5892f14b",
   "metadata": {},
   "source": [
    "39.  \n",
    "\n",
    "---\n",
    "\n",
    "\n",
    "실수 2개(f1, f2)를 입력받아  \n",
    "f1을 f2번 거듭제곱한 값을 출력하는 프로그램을 작성해보자.  \n",
    "\n",
    "참고  \n",
    "python 언어에서는 거듭제곱(exponentiation)을 계산하는 연산자(**)를 제공한다.  \n",
    "일반적으로 수학 식에서 거듭제곱을 표현하는 사용하는 서컴플렉스/케릿 기호(^)는 프로그래밍언어에서 다른 의미로 쓰인다.  \n",
    "\n",
    "입 4.0 2.0  \n",
    "출 16.0"
   ]
  },
  {
   "cell_type": "code",
   "execution_count": 8,
   "id": "e1e537c0",
   "metadata": {},
   "outputs": [
    {
     "name": "stdout",
     "output_type": "stream",
     "text": [
      "4.0 2.0\n",
      "16.0\n"
     ]
    }
   ],
   "source": [
    "a,b = input().split()\n",
    "\n",
    "a,b = float(a), float(b)\n",
    "\n",
    "print(a**b)"
   ]
  },
  {
   "cell_type": "markdown",
   "id": "cba08054",
   "metadata": {},
   "source": [
    "40.  \n",
    "\n",
    "---\n",
    "\n",
    "정수 2개(a, b) 를 입력받아 a를 b로 나눈 몫을 출력해보자.  \n",
    "\n",
    "예시  \n",
    "...  \n",
    "print(a//b)  \n",
    "\n",
    "참고  \n",
    "python언어에서는 나눈 몫을 계산하는 연산자(//, floor division)를 제공한다.  \n",
    "a//b 와 같이 작성하면, a를 b로 나눈 몫(quotient)을 계산해준다.  \n",
    "프로그래밍언어에 따라 이렇게 몫을 계산해주는 연산자가 없는 경우도 있다.  \n",
    "  \n",
    "실수로 나눈 몫이 어떻게 계산될지도 생각해보자.  \n",
    "\n",
    "입 10 3  \n",
    "출 3"
   ]
  },
  {
   "cell_type": "code",
   "execution_count": 10,
   "id": "a3181e63",
   "metadata": {},
   "outputs": [
    {
     "name": "stdout",
     "output_type": "stream",
     "text": [
      "10 3\n",
      "3\n"
     ]
    }
   ],
   "source": [
    "a,b = input().split()\n",
    "\n",
    "a,b = int(a), int(b)\n",
    "\n",
    "print(a//b)"
   ]
  },
  {
   "cell_type": "markdown",
   "id": "5ae482eb",
   "metadata": {},
   "source": [
    "41.  \n",
    "\n",
    "---\n",
    "\n",
    "정수 2개(a, b) 를 입력받아 a를 b로 나눈 나머지를 출력해보자.  \n",
    "\n",
    "예시  \n",
    "...  \n",
    "print(a%b)  \n",
    "\n",
    "참고  \n",
    "python 언어에서는 나눈 나머지를 계산하는 연산자(%, remainder)를 제공한다.  \n",
    "a%b 와 같이 작성하면, a를 b로 나눈 나머지(remainder)를 계산해준다.  \n",
    "나머지 연산(modulus, mod 연산)은 수학자 가우스가 생각해 낸 연산으로,  \n",
    "어떤 수를 다른 수로 나누고 난 후 남는 나머지를 계산하는 연산이다.  \n",
    "  \n",
    "실수로 나눈 나머지가 어떻게 계산될지도 생각해보자.  \n",
    "\n",
    "입 10 3  \n",
    "출 1\n"
   ]
  },
  {
   "cell_type": "code",
   "execution_count": 11,
   "id": "4db91449",
   "metadata": {},
   "outputs": [
    {
     "name": "stdout",
     "output_type": "stream",
     "text": [
      "10 3\n",
      "1\n"
     ]
    }
   ],
   "source": [
    "a,b = input().split()\n",
    "\n",
    "a,b = int(a), int(b)\n",
    "\n",
    "print(a%b)"
   ]
  },
  {
   "cell_type": "markdown",
   "id": "d0b1ade5",
   "metadata": {},
   "source": [
    "42.✅  \n",
    "\n",
    "---\n",
    "\n",
    "실수 1개를 입력받아  \n",
    "소숫점 이하 두 번째 자리까지의 정확도로 반올림한 값을 출력해보자.  \n",
    "\n",
    "\n",
    "예시  \n",
    "\n",
    "a=input()  \n",
    "a=float(a)  \n",
    "print( format(a, \".2f\") )  \n",
    "\n",
    "  \n",
    "참고  \n",
    "format(수, \".2f\") 를 사용하면 원하는 자리까지의 정확도로 반올림 된 실수 값을 만들어 준다.   \n",
    "\n",
    "여기서 만들어진 값은 소수점 아래 3번째 자리에서 반올림한 값이다.  \n",
    "\n",
    "컴퓨터 프로그래밍에서 실수 변환이나 실수를 사용하는 계산은  \n",
    "정확하게 변환되거나 계산되는 것이 아니라, 거의 모두 근사값으로 계산되는 것이라고 할 수 있다.   \n",
    "\n",
    "실수가 컴퓨터로 저장되기 위해서는 디지털방식으로 2진 정수화되어 저장되어야 하는데,  \n",
    "그 과정에서 아주 작은 부분이 저장되지 않고 사라지는 잘림(truncation) 오차가 자주 발생하기 때문이다.  \n",
    "\n",
    "입 3.141592  \n",
    "출 3.14"
   ]
  },
  {
   "cell_type": "code",
   "execution_count": 15,
   "id": "920cc122",
   "metadata": {},
   "outputs": [
    {
     "name": "stdout",
     "output_type": "stream",
     "text": [
      "3.141592\n",
      "3.14\n"
     ]
    }
   ],
   "source": [
    "a = float(input())\n",
    "\n",
    "print(format(a, \".2f\"))"
   ]
  },
  {
   "cell_type": "markdown",
   "id": "bbf5a296",
   "metadata": {},
   "source": [
    "43.  \n",
    "\n",
    "---\n",
    "\n",
    "실수 2개(f1, f2)를 입력받아  \n",
    "f1 을 f2 로 나눈 값을 출력해보자. 이 때 소숫점 넷째자리에서 반올림하여 무조건 소숫점 셋째 자리까지 출력한다.  \n",
    "\n",
    "\n",
    "참고  \n",
    "python 언어에는 나눗셈(division)을 계산하는 연산자(/)가 있다.  \n",
    "\n",
    "컴퓨터 프로그래밍에서 실수 변환이나 실수를 사용하는 계산은   \n",
    "정확하게 변환되거나 계산되는 것이 아니라, 거의 모두 근사값으로 계산되는 것이라고 할 수 있다.    \n",
    "\n",
    "실수가 컴퓨터로 저장되기 위해서는 디지털방식으로 2진 정수화되어 저장되어야 하는데,   \n",
    "그 과정에서 아주 작은 부분이 저장되지 않고 사라지는 잘림(truncation) 오차가 자주 발생하기 때문이다.  \n",
    "\n",
    "계산 결과값 중에서 믿을 수 있는 숫자의 개수를 의미하는, 유효숫자에 대해 찾아보자.   \n",
    "과학실험에서 온도나 부피를 측정할 때에도 유효숫자는 중요하다.   \n",
    "\n",
    "입 10.0 3.0  \n",
    "출 3.333"
   ]
  },
  {
   "cell_type": "code",
   "execution_count": 16,
   "id": "1da0e5cf",
   "metadata": {},
   "outputs": [
    {
     "name": "stdout",
     "output_type": "stream",
     "text": [
      "10.0 3.0\n",
      "3.333\n"
     ]
    }
   ],
   "source": [
    "a,b = input().split()\n",
    "\n",
    "a,b = float(a), float(b)\n",
    "\n",
    "c = a/b\n",
    "\n",
    "print(format(c, \".3f\"))"
   ]
  },
  {
   "cell_type": "markdown",
   "id": "6e58f69f",
   "metadata": {},
   "source": [
    "44.  \n",
    "\n",
    "--- \n",
    "\n",
    "정수 2개(a, b)를 입력받아 합, 차, 곱, 몫, 나머지, 나눈 값을 자동으로 계산해보자.  \n",
    "단, b는 0이 아니다.  \n",
    "\n",
    "첫 번째 줄에 합  \n",
    "두 번째 줄에 차,  \n",
    "세 번째 줄에 곱,  \n",
    "네 번째 줄에 몫,  \n",
    "다섯 번째 줄에 나머지,  \n",
    "여섯 번째 줄에 나눈 값을 순서대로 출력한다.  \n",
    "(실수, 소수점 이하 둘째 자리까지의 정확도로 출력)  \n",
    "\n",
    "입 10 3  \n",
    "  \n",
    "출  \n",
    "13  \n",
    "7  \n",
    "30  \n",
    "3  \n",
    "1  \n",
    "3.33  "
   ]
  },
  {
   "cell_type": "code",
   "execution_count": 22,
   "id": "1cee9fd6",
   "metadata": {},
   "outputs": [
    {
     "name": "stdout",
     "output_type": "stream",
     "text": [
      "10 3\n",
      "13\n",
      "7\n",
      "30\n",
      "3\n",
      "1\n",
      "3.33\n"
     ]
    }
   ],
   "source": [
    "a,b = map(int, input().split())\n",
    "\n",
    "print(a+b)\n",
    "print(a-b)\n",
    "print(a*b)\n",
    "print(a//b)\n",
    "print(a%b)\n",
    "print(format(a/b, \".2f\"))"
   ]
  },
  {
   "cell_type": "markdown",
   "id": "e49cb97b",
   "metadata": {},
   "source": [
    "45.  \n",
    "\n",
    "---\n",
    "\n",
    "정수 3개를 입력받아 합과 평균을 출력해보자.  \n",
    "\n",
    "참고  \n",
    "공백으로 구분된 한 줄로 값들을 입력받기 위해서는  \n",
    "a, b, c = input().split()  \n",
    "과 같은 방법이 가능하고,  \n",
    "\n",
    "공백으로 구분해 두 값을 출력하기 위해서는  \n",
    "print(d, e)  \n",
    "와 같은 방법이 가능하다.  \n",
    "\n",
    "잘라낸 값들은 그 값의 특성(정수, 실수, 문자, 문자열 ...)에 따라 명확하게 변환시킨 후 사용하는 것이 좋다.  \n",
    "\n",
    "python 프로그래밍을 처음 배울 때 좋은 습관(단계)  \n",
    "1. 입력된 문자열을 정확하게 잘라낸다.(공백, 줄바꿈, 구분문자 등에 따라 정확하게 잘라낸다.)  \n",
    "2. 잘라낸 데이터들을 데이터형에 맞게 변환해 변수에 저장한다. (정수, 실수, 문자, 문자열 등에 따라 정확하게 변환한다.)  \n",
    "3. 값을 저장했다가 다시 사용하기 위해, 변수를 이용해 값을 저장하고, 변수를 이용해 계산을 한다.  \n",
    "4. 원하는 결과 값을 필요한 형태로 만들어 출력한다.(공백, 줄바꿈, 구분자, 등에 따라 원하는 형태로 만들어 출력한다.)  \n",
    " \n",
    "입 1 2 3  \n",
    "출 6 2.00"
   ]
  },
  {
   "cell_type": "code",
   "execution_count": 27,
   "id": "3465f423",
   "metadata": {},
   "outputs": [
    {
     "name": "stdout",
     "output_type": "stream",
     "text": [
      "1 2 3\n",
      "6 2.00\n"
     ]
    }
   ],
   "source": [
    "a,b,c = map(int, input().split())\n",
    "\n",
    "plus = a + b + c\n",
    "\n",
    "avg = plus/3\n",
    "\n",
    "print(plus, format(avg, \".2f\"), sep = \" \")"
   ]
  },
  {
   "cell_type": "markdown",
   "id": "8b3e3c01",
   "metadata": {},
   "source": [
    "46. ✅\n",
    "\n",
    "---\n",
    "\n",
    "정수 1개를 입력받아 2배 곱해 출력해보자.  \n",
    "\n",
    "참고  \n",
    "*2 를 계산한 값을 출력해도 되지만,  \n",
    "정수를 2배로 곱하거나 나누어 계산해 주는 비트단위시프트연산자 <<, >>를 이용할 수 있다.  \n",
    "컴퓨터 내부에는 2진수 형태로 값들이 저장되기 때문에,  \n",
    "2진수 형태로 저장되어 있는 값들을 왼쪽(<<)이나 오른쪽(>>)으로  \n",
    "지정한 비트 수만큼 밀어주면 2배씩 늘어나거나 1/2로 줄어드는데,  \n",
    "\n",
    "왼쪽 비트시프트(<<)가 될 때에는 오른쪽에 0이 주어진 개수만큼 추가되고,  \n",
    "오른쪽 비트시프트(>>)가 될 때에는 왼쪽에 0(0 또는 양의 정수인 경우)이나 1(음의 정수인 경우)이 개수만큼 추가되고,  \n",
    "가장 오른쪽에 있는 1비트는 사라진다.  \n",
    "\n",
    "예시  \n",
    "n = 10  \n",
    "print(n<<1)  #10을 2배 한 값인 20 이 출력된다.  \n",
    "print(n>>1)  #10을 반으로 나눈 값인 5 가 출력된다.  \n",
    "print(n<<2)  #10을 4배 한 값인 40 이 출력된다.  \n",
    "print(n>>2)  #10을 반으로 나눈 후 다시 반으로 나눈 값인 2 가 출력된다.  \n",
    "\n",
    "정수 10의 2진수 표현은 ... 1010 이다.  \n",
    "10 << 1 을 계산하면 ... 10100 이 된다 이 값은 10진수로 20이다.  \n",
    "10 >> 1 을 계산하면 ... 101 이 된다. 이 값은 10진수로 5이다.  \n",
    "\n",
    "n = 10 과 같이 키보드로 입력받지 않고 직접 작성해 넣은 코드에서, 숫자로 시작하는 단어(식별자, identifier)는 자동으로 수로 인식된다.    \n",
    "\n",
    "n = 10 에서 10 은 10진수 정수 값으로 인식된다.  \n",
    "변수 n 에 문자열을 저장하고 싶다면, n = \"10\" 또는 n = '10'으로 작성해 넣으면 되고,  \n",
    "\n",
    "n = 10.0 으로 작성해 넣으면 자동으로 실수 값으로 저장된다.  \n",
    "n = 0o10 으로 작성해 넣으면 8진수(octal) 10으로 인식되어 10진수 8값이 저장되고,  \n",
    "n = 0xf 나 n = 0XF 으로 작성해 넣으면 16진수(hexadecimal) F로 인식되어 10진수 15값으로 저장된다.  \n",
    "\n",
    "** python에서 실수 값에 대한 비트시프트 연산은 허용되지 않고 오류가 발생한다.  \n",
    "(실수 값도 컴퓨터 내부적으로는 2진수 형태로 저장되고 비트시프트 처리가 될 수 있지만, python 에서는 허용하지 않는다.)  "
   ]
  },
  {
   "cell_type": "code",
   "execution_count": 29,
   "id": "79348fa9",
   "metadata": {},
   "outputs": [
    {
     "name": "stdout",
     "output_type": "stream",
     "text": [
      "17\n",
      "34\n"
     ]
    }
   ],
   "source": [
    "a = int(input())\n",
    "\n",
    "print(a<<1)"
   ]
  },
  {
   "cell_type": "markdown",
   "id": "314da4a0",
   "metadata": {},
   "source": [
    "47.  \n",
    "\n",
    "---\n",
    "\n",
    "정수 2개(a, b)를 입력받아 a를 2b배 곱한 값으로 출력해보자.  \n",
    "0 <= a <= 10, 0 <= b <= 10  \n",
    "\n",
    "예시  \n",
    "a = 2  \n",
    "b = 10  \n",
    "print(a << b)  #210 = 1024 가 출력된다.  \n",
    "\n",
    "참고  \n",
    "예를 들어 1 3 이 입력되면 1을 23(8)배 하여 출력한다.  \n",
    "\n",
    "입 1  \n",
    "출 3  "
   ]
  },
  {
   "cell_type": "code",
   "execution_count": 36,
   "id": "dfbd1df5",
   "metadata": {},
   "outputs": [
    {
     "name": "stdout",
     "output_type": "stream",
     "text": [
      "1 3\n",
      "8\n"
     ]
    }
   ],
   "source": [
    "a,b = map(int, input().split())\n",
    "\n",
    "print(a<<b)"
   ]
  },
  {
   "cell_type": "markdown",
   "id": "5d6ff0ab",
   "metadata": {},
   "source": [
    "48.  \n",
    "\n",
    "---\n",
    "\n",
    "두 정수(a, b)를 입력받아  \n",
    "a가 b보다 작으면 True 를, a가 b보다 크거나 같으면 False 를 출력하는 프로그램을 작성해보자.  \n",
    "\n",
    "예시  \n",
    "print(123<456)  #비교 연산자 < 의 계산 결과인 True(참)가 출력된다.  \n",
    "(123, 456 은 숫자로 작성된 단어이기 때문에 10진수로 인식된다.)  \n",
    "\n",
    "참고  \n",
    "어떤 값을 비교하기 위해 비교/관계(comparison/relational) 연산자(operator)를 사용할 수 있다.  \n",
    "\n",
    "비교/관계연산자 < (less than sign) 는  \n",
    "왼쪽의 값이 오른쪽 값 보다 작은 경우 True(참)로 계산하고,  \n",
    "그 외의 경우에는 False(거짓)로 계산한다.  \n",
    "\n",
    "비교/관계연산자도 일반적인 사칙연산자처럼 주어진 두 수를 이용해 계산을 수행하고,  \n",
    "그 결과를 True(참), 또는 False(거짓)로 계산해 주는 연산자이다.  \n",
    "\n",
    "비교/관계연산자는 <, >, <=, >=, ==(같다), !=(다르다) 6개가 있다.  \n",
    "\n",
    "True(참) 또는 False(거짓) 값으로만 표현하고 저장하는 값을 불(bool)/불리언(boolean) 값이라고 한다.  \n",
    "정수, 실수, 문자, 문자열과 마찬가지로 또 다른 형태의 데이터형(data type)이다.  \n",
    "\n",
    "입  1 9  \n",
    "출  TRUE"
   ]
  },
  {
   "cell_type": "code",
   "execution_count": 39,
   "id": "727faee6",
   "metadata": {},
   "outputs": [
    {
     "name": "stdout",
     "output_type": "stream",
     "text": [
      "1 9\n",
      "True\n"
     ]
    }
   ],
   "source": [
    "a,b = map(int, input().split())\n",
    "\n",
    "print(a < b)"
   ]
  },
  {
   "cell_type": "markdown",
   "id": "d108fa7a",
   "metadata": {},
   "source": [
    "49.  \n",
    "\n",
    "---\n",
    "\n",
    "\n",
    "두 정수(a, b)를 입력받아  \n",
    "a와 b의 값이 같으면 True 를, 같지 않으면 False 를 출력하는 프로그램을 작성해보자.  \n",
    "\n",
    "참고  \n",
    "어떤 값을 비교하기 위해 비교/관계(comparison/relational) 연산자(operator)를 사용할 수 있다.  \n",
    "\n",
    "비교/관계연산자 == (equal sign 2개) 는  \n",
    "왼쪽의 계산 결과값과 오른쪽의 계산 결과값이 같은 경우 True(참)로 계산하고,  \n",
    "그 외의 경우에는 False(거짓)로 계산한다.  \n",
    "\n",
    "비교/관계연산자도 일반적인 사칙연산자처럼 주어진 두 수를 이용해 계산을 수행하고,  \n",
    "그 결과를 True(참), 또는 False(거짓)로 계산해 주는 연산자이다.  \n",
    "\n",
    "비교/관계연산자는 <, >, <=, >=, ==(같다), !=(다르다) 6개가 있다.  \n",
    "  \n",
    "** 수학에서 왼쪽과 오른쪽의 계산 결과가 같음(동치)을 나타내는 기호 =(equal sign) 1개는  \n",
    "프로그래밍언어에서는 전혀 다른 의미로 사용된다.  \n",
    "\n",
    "a = 1 와 같은 표현은 a와 1의 값이 같다는 의미가 아니라  \n",
    "오른쪽의 계산 결과값인 1을 왼쪽의 변수 a에 저장하라는 의미이다.  \n",
    "\n",
    "입 0 0  \n",
    "출 True"
   ]
  },
  {
   "cell_type": "code",
   "execution_count": 42,
   "id": "ce49ccce",
   "metadata": {},
   "outputs": [
    {
     "name": "stdout",
     "output_type": "stream",
     "text": [
      "0 0\n",
      "True\n"
     ]
    }
   ],
   "source": [
    "a,b = map(int, input().split())\n",
    "\n",
    "print(a == b)"
   ]
  },
  {
   "cell_type": "markdown",
   "id": "420ab272",
   "metadata": {},
   "source": [
    "50.  \n",
    "\n",
    "---\n",
    "\n",
    "두 정수(a, b)를 입력받아  \n",
    "b의 값이 a의 값 보다 크거나 같으면 True 를, 같지 않으면 False 를 출력하는 프로그램을 작성해보자.  \n",
    "\n",
    "참고  \n",
    "어떤 값을 비교하기 위해 비교/관계(comparison/relational) 연산자(operator)를 사용할 수 있다.  \n",
    "\n",
    "비교/관계연산자 <= 는  \n",
    "오른쪽의 계산 결과값이 왼쪽의 계산 결과값보다 크거나 같은 경우 True(참)로 계산하고,  \n",
    "그 외의 경우에는 False(거짓)로 계산한다.  \n",
    "\n",
    "<=, >= 연산자는 같음(==)을 포함한다. 따라서 “작다/크다” 거나 \"같다”는 의미를 가진다.  \n",
    "작다(<)/크다(>)/다르다(!) 기호는 등호(=)와 함께 왼쪽에 붙여써야 한다.  \n",
    "\n",
    "비교/관계연산자도 일반적인 사칙연산자처럼 주어진 두 수를 이용해 계산을 수행하고,  \n",
    "그 결과를 True(참), 또는 False(거짓)로 계산해주는 연산자이다.  \n",
    "비교/관계연산자는 <, >, <=, >=, ==(같다), !=(다르다) 6개가 있다.  \n",
    "\n",
    "입 0 -1  \n",
    "출 False"
   ]
  },
  {
   "cell_type": "code",
   "execution_count": 43,
   "id": "a1d021a6",
   "metadata": {},
   "outputs": [
    {
     "name": "stdout",
     "output_type": "stream",
     "text": [
      "0 -1\n",
      "False\n"
     ]
    }
   ],
   "source": [
    "a,b = map(int, input().split())\n",
    "\n",
    "print(b >= a)"
   ]
  },
  {
   "cell_type": "markdown",
   "id": "6cb14bd7",
   "metadata": {},
   "source": [
    "51.  \n",
    "\n",
    "---\n",
    "\n",
    "두 정수(a, b)를 입력받아  \n",
    "a의 값이 b의 값과 서로 다르면 True 를, 같으면 False 를 출력하는 프로그램을 작성해보자.  \n",
    "\n",
    "참고  \n",
    "어떤 값을 비교하기 위해 비교/관계(comparison/relational) 연산자(operator)를 사용할 수 있다.  \n",
    "\n",
    "비교/관계연산자 != 는  \n",
    "왼쪽의 계산 결과값이 오른쪽의 계산 결과값이 서로 다른 경우 True(참)로 계산하고,  \n",
    "그 외의 경우에는 False(거짓)로 계산한다.  \n",
    "\n",
    "비교/관계연산자도 일반적인 사칙연산자처럼 주어진 두 수를 이용해 계산을 수행하고,  \n",
    "그 결과를 True(참), 또는 False(거짓)로 계산해주는 연산자이다.  \n",
    "비교/관계연산자는 <, >, <=, >=, ==(같다), !=(다르다) 6개가 있다.  \n",
    "\n",
    "입 0 1  \n",
    "출 True"
   ]
  },
  {
   "cell_type": "code",
   "execution_count": 44,
   "id": "691c8b04",
   "metadata": {},
   "outputs": [
    {
     "name": "stdout",
     "output_type": "stream",
     "text": [
      "0 1\n",
      "True\n"
     ]
    }
   ],
   "source": [
    "a,b = map(int, input().split())\n",
    "\n",
    "print(a != b)"
   ]
  },
  {
   "cell_type": "markdown",
   "id": "047d3859",
   "metadata": {},
   "source": [
    "#### OR 연산자는 하나만 True면 True, AND 연산자는 두 개가 True여야 True"
   ]
  },
  {
   "cell_type": "markdown",
   "id": "aa04d994",
   "metadata": {},
   "source": [
    "52.  \n",
    "\n",
    "정수 0은 False, 나머지 값들은 죄다 True ⭐\n",
    "\n",
    "---\n",
    "\n",
    "정수가 입력되었을 때, True/False 로 평가해주는 프로그램을 작성해보자.  \n",
    "\n",
    "예시  \n",
    "n = int(input())  \n",
    "print(bool(n))  \n",
    "\n",
    "참고  \n",
    "bool( ) 을 이용하면 입력된 식이나 값을 평가해 불 형의 값(True 또는 False)을 출력해준다.  \n",
    "식이나 값을 계산해서 결과값이 만들어지는 것을 평가(evaluate)라고 한다.   \n",
    "\n",
    "python 언어에서 정수값 0은 False(거짓)로 평가되고, 그 외의 값들은 모두 True(참)로 평가된다.  \n",
    "** 불 대수(boolean algebra)는 수학자 불이 만들어낸 것으로 True(참)/False(거짓) 값만 가지는 논리값과 그 값들 사이의 연산을 다룬다.  \n",
    "\n",
    "입 0  \n",
    "출 False"
   ]
  },
  {
   "cell_type": "code",
   "execution_count": 47,
   "id": "d108a206",
   "metadata": {},
   "outputs": [
    {
     "name": "stdout",
     "output_type": "stream",
     "text": [
      "0\n",
      "False\n"
     ]
    }
   ],
   "source": [
    "a = int(input())\n",
    "\n",
    "print(bool(a))"
   ]
  },
  {
   "cell_type": "markdown",
   "id": "31eeed18",
   "metadata": {},
   "source": [
    "53.  \n",
    "\n",
    "---\n",
    "\n",
    "정수값이 입력될 때,  \n",
    "그 불 값을 반대로 출력하는 프로그램을 작성해보자.  \n",
    "\n",
    "예시  \n",
    "a = bool(int(input()))  \n",
    "print(not a)  \n",
    "\n",
    "참고  \n",
    "a = bool(int(input()))  \n",
    "와 같은 형태로 겹쳐 작성하면, 한 번에 한 단계씩 계산/처리/평가된다.  \n",
    "위와 같은 명령문의 경우 input( ), int( ), bool( ) 순서로 한 번에 한 단계씩 계산/처리/평가된다.  \n",
    "\n",
    "어떤 불 값이나 변수에 not True, not False, not a 와 같은 계산이 가능하다.  \n",
    "\n",
    "참 또는 거짓의 논리값을 역(반대)으로 바꾸기 위해서 not 예약어(reserved word, keyword)를 사용할 수 있다.  \n",
    "\n",
    "이러한 논리연산을 NOT 연산(boolean NOT)이라고도 부르고,  \n",
    "프라임 '(문자 오른쪽 위에 작은 따옴표), 바(기호 위에 가로 막대), 문자 오른쪽 위에 c(여집합, complement) 등으로 표시한다.  \n",
    "모두 같은 의미이다.  \n",
    "\n",
    "참, 거짓의 논리값 인 불(boolean) 값을 다루어주는 예약어는 not, and, or 이 있고,  \n",
    "불 값들 사이의 논리(not, and, or) 연산 결과도 마찬가지로 True 또는 False 의 불 값으로 계산 된다.  \n",
    "\n",
    "정수값 0은 False 이고, 나머지 정수 값들은 True 로 평가된다.  \n",
    "빈 문자열 \"\" 나 ''는 False 이고, 나머지 문자열들은 True 로 평가된다.  \n",
    "\n",
    "** 불 대수(boolean algebra)는 수학자 불이 만들어낸 것으로 True(참)/False(거짓) 값만 가지는 논리값과 그 값들 사이의 연산을 다룬다.  \n",
    "\n",
    "입 1  \n",
    "출 False  \n"
   ]
  },
  {
   "cell_type": "code",
   "execution_count": 49,
   "id": "5f952e64",
   "metadata": {},
   "outputs": [
    {
     "name": "stdout",
     "output_type": "stream",
     "text": [
      "0\n",
      "True\n"
     ]
    }
   ],
   "source": [
    "a = int(input())\n",
    "\n",
    "print(bool(not a))"
   ]
  },
  {
   "cell_type": "markdown",
   "id": "53fd17ed",
   "metadata": {},
   "source": [
    "54. ✅\n",
    "\n",
    "---\n",
    "\n",
    "2개의 정수값이 입력될 때,  \n",
    "그 불 값이 모두 True 일 때에만 True 를 출력하는 프로그램을 작성해보자.  \n",
    "\n",
    "예시  \n",
    "a, b = input().split()  \n",
    "print(bool(int(a)) and bool(int(b)))  \n",
    "\n",
    "참고  \n",
    "and 예약어는 주어진 두 불 값이 모두 True 일 때에만 True 로 계산하고, 나머지 경우는 False 로 계산한다.  \n",
    "이러한 논리연산을 AND 연산(boolean AND)이라고도 부르고, · 으로 표시하거나 생략하며, 집합 기호 ∩(교집합, intersection)로 표시하기도 한다.   \n",
    "모두 같은 의미이다.  \n",
    "\n",
    "참, 거짓의 논리값 인 불(boolean) 값을 다루어주는 예약어는 not, and, or 이 있고,  \n",
    "불 값들 사이의 논리(not, and, or) 연산 결과도 마찬가지로 True 또는 False 의 불 값으로 계산된다.  \n",
    "\n",
    "** 불 대수(boolean algebra)는 수학자 불이 만들어낸 것으로 True(참)/False(거짓) 값만 가지는 논리값과 그 값들 사이의 연산을 다룬다.  \n",
    "\n",
    "입 1 1  \n",
    "출 True"
   ]
  },
  {
   "cell_type": "code",
   "execution_count": 53,
   "id": "95d115d5",
   "metadata": {},
   "outputs": [
    {
     "name": "stdout",
     "output_type": "stream",
     "text": [
      "1 1\n",
      "True\n"
     ]
    }
   ],
   "source": [
    "a,b = map(int, input().split())\n",
    "\n",
    "print(bool(a) and bool(b))"
   ]
  },
  {
   "cell_type": "markdown",
   "id": "7dedb8a5",
   "metadata": {},
   "source": [
    "55.  \n",
    "\n",
    "---\n",
    "\n",
    "2개의 정수값이 입력될 때,  \n",
    "그 불 값이 하나라도 True 일 때에만 True 를 출력하는 프로그램을 작성해보자.  \n",
    "\n",
    "참고  \n",
    "or 예약어는 주어진 두 불 값 중에서 하나라도 True 이면 True 로 계산하고, 나머지 경우는 False 로 계산한다.  \n",
    "이러한 논리연산을 OR 연산(boolean OR)이라고도 부르고, + 로 표시하거나, 집합 기호 ∪(합집합, union)로 표시하기도 한다.  \n",
    "모두 같은 의미이다.  \n",
    "\n",
    "참, 거짓의 논리값 인 불(boolean) 값을 다루어주는 예약어는 not, and, or 이 있고,  \n",
    "불 값들 사이의 논리(not, and, or) 연산 결과도 마찬가지로 True 또는 False 의 불 값으로 계산된다.  \n",
    "\n",
    "** 불 대수(boolean algebra)는 수학자 불이 만들어낸 것으로 True(참)/False(거짓) 값만 가지는 논리값과 그 값들 사이의 연산을 다룬다.  \n",
    "\n",
    "입 1 1  \n",
    "출 True"
   ]
  },
  {
   "cell_type": "code",
   "execution_count": 55,
   "id": "e0a2faa5",
   "metadata": {},
   "outputs": [
    {
     "name": "stdout",
     "output_type": "stream",
     "text": [
      "1 0\n",
      "True\n"
     ]
    }
   ],
   "source": [
    "a,b = map(int, input().split())\n",
    "\n",
    "print(bool(a) or bool(b))"
   ]
  },
  {
   "cell_type": "markdown",
   "id": "a8e13cc9",
   "metadata": {},
   "source": [
    "56.  \n",
    "\n",
    "---\n",
    "\n",
    "2개의 정수값이 입력될 때,  \n",
    "그 불 값(True/False) 이 서로 다를 때에만 True 를 출력하는 프로그램을 작성해보자.  \n",
    "\n",
    "예시  \n",
    "...  \n",
    "c = bool(int(a))  \n",
    "d = bool(int(b))  \n",
    "print((c and (not d)) or ((not c) and d))  \n",
    "\n",
    "참고  \n",
    "참 거짓이 서로 다를 때에만 True 로 계산하는 논리연산을 XOR(exclusive or, 배타적 논리합) 연산이라고도 부른다.  \n",
    "\n",
    "논리연산자는 사칙(+, -, *, /) 연산자와 마찬가지로 여러 번 중복해서 사용할 수 있는데,   \n",
    "사칙 연산자와 마찬가지로 계산 순서를 표시하기 위해 괄호 ( )를 사용할 수 있다.  \n",
    "괄호를 사용하면 계산 순서를 명확하게 표현할 수 있다.  \n",
    "  \n",
    "수학 식에서는 소괄호 (), 중괄호 {}, 대괄호 []를 사용하기도 하지만, 프로그래밍언어에서는 소괄호 ( ) 만 사용한다.  \n",
    "\n",
    "** 불 대수(boolean algebra)는 수학자 불이 만들어낸 것으로 True(참)/False(거짓) 값만 가지는 논리값과 그 값들 사이의 연산을 다룬다.  \n",
    "\n",
    "입 1 1  \n",
    "출 False"
   ]
  },
  {
   "cell_type": "code",
   "execution_count": 57,
   "id": "66e6f0a1",
   "metadata": {},
   "outputs": [
    {
     "name": "stdout",
     "output_type": "stream",
     "text": [
      "1 1\n",
      "False\n"
     ]
    }
   ],
   "source": [
    "a,b = map(int, input().split())\n",
    "\n",
    "a,b = bool(a), bool(b)\n",
    "\n",
    "if a != b:\n",
    "    print(True)\n",
    "else:\n",
    "    print(False)"
   ]
  },
  {
   "cell_type": "code",
   "execution_count": 59,
   "id": "5500357f",
   "metadata": {},
   "outputs": [
    {
     "name": "stdout",
     "output_type": "stream",
     "text": [
      "1 0\n",
      "True\n"
     ]
    }
   ],
   "source": [
    "a,b = map(int, input().split())\n",
    "\n",
    "a,b = bool(a), bool(b)\n",
    "\n",
    "print((a and (not b)) or ((not a) and b))"
   ]
  },
  {
   "cell_type": "markdown",
   "id": "5b3e7b51",
   "metadata": {},
   "source": [
    "57.  \n",
    "\n",
    "---\n",
    "\n",
    "2개의 정수값이 입력될 때,  \n",
    "그 불 값(True/False) 이 서로 같을 때에만 True 를 출력하는 프로그램을 작성해보자.  \n",
    "\n",
    "입 0 0  \n",
    "출 True"
   ]
  },
  {
   "cell_type": "code",
   "execution_count": 65,
   "id": "71306d71",
   "metadata": {},
   "outputs": [
    {
     "name": "stdout",
     "output_type": "stream",
     "text": [
      "1 5\n",
      "True\n"
     ]
    }
   ],
   "source": [
    "a,b = map(int, input().split())\n",
    "\n",
    "a,b = bool(a), bool(b)\n",
    "\n",
    "print((a or (not b)) and (b or (not a)))"
   ]
  },
  {
   "cell_type": "markdown",
   "id": "c2606ac9",
   "metadata": {},
   "source": [
    "58.  \n",
    "\n",
    "---\n",
    "\n",
    "2개의 정수값이 입력될 때,  \n",
    "그 불 값(True/False) 이 모두 False 일 때에만 True 를 출력하는 프로그램을 작성해보자.  \n",
    "\n",
    "입 0 0\n",
    "출 True"
   ]
  },
  {
   "cell_type": "code",
   "execution_count": 75,
   "id": "b79b539e",
   "metadata": {},
   "outputs": [
    {
     "name": "stdout",
     "output_type": "stream",
     "text": [
      "0 0\n",
      "True\n"
     ]
    }
   ],
   "source": [
    "a,b = map(int, input().split())\n",
    "\n",
    "a,b = bool(a), bool(b)\n",
    "\n",
    "print((not a and not b))"
   ]
  },
  {
   "cell_type": "markdown",
   "id": "8d0c6213",
   "metadata": {},
   "source": [
    "59. ✅  \n",
    "\n",
    "---\n",
    "\n",
    "입력 된 정수를 비트단위로 참/거짓을 바꾼 후 정수로 출력해보자.  \n",
    "비트단위(bitwise)연산자 ~ 를 붙이면 된다.(~ : tilde, 틸드라고 읽는다.)  \n",
    "\n",
    "** 비트단위(bitwise) 연산자는,  \n",
    "~(bitwise not), &(bitwise and), |(bitwise or), ^(bitwise xor),  \n",
    "<<(bitwise left shift), >>(bitwise right shift)  \n",
    "가 있다.  \n",
    "\n",
    "예를 들어 1이 입력되었을 때 저장되는 1을 32비트 2진수로 표현하면  \n",
    "        00000000 00000000 00000000 00000001 이고,  \n",
    "~1은 11111111 11111111 11111111 11111110 가 되는데 이는 -2를 의미한다.  \n",
    "\n",
    "예시  \n",
    "a = 1  \n",
    "print(~a) #-2가 출력된다.  \n",
    "\n",
    "참고  \n",
    "컴퓨터에 저장되는 모든 데이터들은 2진수 형태로 바뀌어 저장된다.  \n",
    "0과 1로만 구성되는 비트단위들로 변환되어 저장되는데,  \n",
    "양의 정수는 2진수 형태로 바뀌어 저장되고, 음의 정수는 \"2의 보수 표현\"방법으로 저장된다.  \n",
    "\n",
    "양의 정수 5를 32비트로 저장하면,   \n",
    "\n",
    "5의 2진수 형태인 101이 32비트로 만들어져  \n",
    "00000000 00000000 00000000 00000101  \n",
    "로 저장된다.(공백은 보기 편하도록 임의로 분리)  \n",
    "\n",
    "32비트 형의 정수 0은  \n",
    "00000000 00000000 00000000 00000000  \n",
    "\n",
    "그리고 -1은 0에서 1을 더 빼고 32비트만 표시하는 형태로   \n",
    "11111111 11111111 11111111 11111111 로 저장된다.  \n",
    "\n",
    "-2는 -1에서 1을 더 빼면 된다.  \n",
    "11111111 11111111 11111111 11111110 로 저장된다.  \n",
    "\n",
    "이러한 내용을 간단히 표현하면, 정수 n이라고 할 때,  \n",
    "\n",
    "~n = -n - 1  \n",
    "-n = ~n + 1 과 같은 관계로 표현할 수 있다.  \n",
    "\n",
    "이 관계를 그림으로 그려보면 마치 원형으로 수들이 상대적으로 배치된 것과 같다.  \n",
    "\n",
    "입 2  \n",
    "출 -3  "
   ]
  },
  {
   "cell_type": "code",
   "execution_count": 77,
   "id": "cea48464",
   "metadata": {},
   "outputs": [
    {
     "name": "stdout",
     "output_type": "stream",
     "text": [
      "2\n",
      "-3\n"
     ]
    }
   ],
   "source": [
    "a = int(input())\n",
    "\n",
    "print(~a)"
   ]
  },
  {
   "cell_type": "markdown",
   "id": "0bfe13af",
   "metadata": {},
   "source": [
    "60.  \n",
    "\n",
    "---\n",
    "\n",
    "입력된 정수 두 개를 비트단위로 and 연산한 후 그 결과를 정수로 출력해보자.  \n",
    "비트단위(bitwise)연산자 &를 사용하면 된다.(and, ampersand, 앰퍼센드라고 읽는다.)  \n",
    "\n",
    "** 비트단위(bitwise)연산자는,  \n",
    "~(bitwise not), &(bitwise and), |(bitwise or), ^(bitwise xor),  \n",
    "<<(bitwise left shift), >>(bitwise right shift)  \n",
    "가 있다.  \n",
    "\n",
    "예를 들어 3과 5가 입력되었을 때를 살펴보면  \n",
    "3       : 00000000 00000000 00000000 00000011  \n",
    "5       : 00000000 00000000 00000000 00000101  \n",
    "3 & 5 : 00000000 00000000 00000000 00000001  \n",
    "이 된다.  \n",
    "\n",
    "비트단위 and 연산은 두 비트열이 주어졌을 때,  \n",
    "둘 다 1인 부분의 자리만 1로 만들어주는 것과 같다.  \n",
    "\n",
    "이 연산을 이용하면 어떤 비트열의 특정 부분만 모두 0으로도 만들 수 있는데  \n",
    "192.168.0.31   : 11000000.10101000.00000000.00011111  \n",
    "255.255.255.0 : 11111111.11111111.11111111.00000000  \n",
    "\n",
    "두 개의 ip 주소를 & 연산하면  \n",
    "192.168.0.0 :     110000000.10101000.0000000.00000000 을 계산할 수 있다.  \n",
    "\n",
    "실제로 이 계산은 네트워크에 연결되어 있는 두 개의 컴퓨터가 데이터를 주고받기 위해  \n",
    "같은 네트워크에 있는지 아닌지를 판단하는데 사용된다.  \n",
    "\n",
    "이러한 비트단위 연산은 빠른 계산이 필요한 그래픽처리에서  \n",
    "마스크연산(특정 부분을 가리고 출력하는)을 수행하는 데에도 효과적으로 사용된다.  \n",
    "\n",
    "입 3 5  \n",
    "출 1"
   ]
  },
  {
   "cell_type": "code",
   "execution_count": 78,
   "id": "f1b4c30c",
   "metadata": {},
   "outputs": [
    {
     "name": "stdout",
     "output_type": "stream",
     "text": [
      "3 5\n",
      "1\n"
     ]
    }
   ],
   "source": [
    "a,b = map(int, input().split())\n",
    "\n",
    "print(a & b)"
   ]
  },
  {
   "cell_type": "markdown",
   "id": "adbcfc51",
   "metadata": {},
   "source": [
    "61.  \n",
    "\n",
    "--- \n",
    "\n",
    "입력된 정수 두 개를 비트단위로 or 연산한 후 그 결과를 정수로 출력해보자.  \n",
    "비트단위(bitwise) 연산자 |(or, vertical bar, 버티컬바)를 사용하면 된다.  \n",
    "\n",
    "** | 은 파이프(pipe)연산자라고도 불리는 경우가 있다.  \n",
    "\n",
    "** 비트단위(bitwise) 연산자는,  \n",
    "~(bitwise not), &(bitwise and), |(bitwise or), ^(bitwise xor),  \n",
    "<<(bitwise left shift), >>(bitwise right shift)  \n",
    "가 있다.  \n",
    "\n",
    "예를 들어 3과 5가 입력되었을 때를 살펴보면  \n",
    "3      : 00000000 00000000 00000000 00000011  \n",
    "5      : 00000000 00000000 00000000 00000101  \n",
    "3 | 5 : 00000000 00000000 00000000 00000111  \n",
    "이 된다.  \n",
    "\n",
    "비트단위 or 연산은 둘 중 하나라도 1인 자리를 1로 만들어주는 것과 같다.  \n",
    "\n",
    "이러한 비트단위 연산은 빠른 계산이 필요한 그래픽처리에서도 효과적으로 사용된다.  \n",
    "\n",
    "입 3 5  \n",
    "출 7"
   ]
  },
  {
   "cell_type": "code",
   "execution_count": 79,
   "id": "09d39566",
   "metadata": {},
   "outputs": [
    {
     "name": "stdout",
     "output_type": "stream",
     "text": [
      "3 5\n",
      "7\n"
     ]
    }
   ],
   "source": [
    "a,b = map(int, input().split())\n",
    "\n",
    "print(a | b)"
   ]
  },
  {
   "cell_type": "code",
   "execution_count": null,
   "id": "c6a6256f",
   "metadata": {},
   "outputs": [],
   "source": []
  },
  {
   "cell_type": "code",
   "execution_count": null,
   "id": "2beec0c3",
   "metadata": {},
   "outputs": [],
   "source": []
  }
 ],
 "metadata": {
  "kernelspec": {
   "display_name": "Python 3 (ipykernel)",
   "language": "python",
   "name": "python3"
  },
  "language_info": {
   "codemirror_mode": {
    "name": "ipython",
    "version": 3
   },
   "file_extension": ".py",
   "mimetype": "text/x-python",
   "name": "python",
   "nbconvert_exporter": "python",
   "pygments_lexer": "ipython3",
   "version": "3.8.20"
  }
 },
 "nbformat": 4,
 "nbformat_minor": 5
}
